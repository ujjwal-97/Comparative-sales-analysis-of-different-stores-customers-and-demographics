{
 "cells": [
  {
   "cell_type": "markdown",
   "metadata": {},
   "source": [
    "\t Comparative sales analysis of different stores, customers, demographics\t\t\t\t\t\t\t\t"
   ]
  },
  {
   "cell_type": "code",
   "execution_count": 1,
   "metadata": {},
   "outputs": [],
   "source": [
    "import math\n",
    "import pandas as pd\n",
    "import numpy as np\n",
    "import matplotlib.pyplot as plt\n",
    "import scipy.stats as stats\n",
    "import sklearn\n",
    "import seaborn as sns"
   ]
  },
  {
   "cell_type": "code",
   "execution_count": 2,
   "metadata": {},
   "outputs": [],
   "source": [
    "train = pd.read_csv(\"data/train.csv\", sep=',', parse_dates=['Date'], dtype={'StateHoliday': str, 'SchoolHoliday':str})\n",
    "test = pd.read_csv(\"data/test.csv\", sep=\",\", index_col = 'Id', parse_dates=['Date'], dtype={'StateHoliday': str, 'SchoolHoliday':str})\n",
    "store = pd.read_csv(\"data/store.csv\", sep=\",\", dtype={'StoreType': str, 'Assortment': str, 'PromoInterval': str})"
   ]
  },
  {
   "cell_type": "code",
   "execution_count": 3,
   "metadata": {},
   "outputs": [
    {
     "name": "stdout",
     "output_type": "stream",
     "text": [
      "   Store  DayOfWeek       Date  Sales  Customers  Open  Promo StateHoliday  \\\n",
      "0      1          5 2015-07-31   5263        555     1      1            0   \n",
      "1      2          5 2015-07-31   6064        625     1      1            0   \n",
      "2      3          5 2015-07-31   8314        821     1      1            0   \n",
      "3      4          5 2015-07-31  13995       1498     1      1            0   \n",
      "4      5          5 2015-07-31   4822        559     1      1            0   \n",
      "\n",
      "  SchoolHoliday  \n",
      "0             1  \n",
      "1             1  \n",
      "2             1  \n",
      "3             1  \n",
      "4             1  \n",
      "         Store  DayOfWeek       Date  Sales  Customers  Open  Promo  \\\n",
      "1017204   1111          2 2013-01-01      0          0     0      0   \n",
      "1017205   1112          2 2013-01-01      0          0     0      0   \n",
      "1017206   1113          2 2013-01-01      0          0     0      0   \n",
      "1017207   1114          2 2013-01-01      0          0     0      0   \n",
      "1017208   1115          2 2013-01-01      0          0     0      0   \n",
      "\n",
      "        StateHoliday SchoolHoliday  \n",
      "1017204            a             1  \n",
      "1017205            a             1  \n",
      "1017206            a             1  \n",
      "1017207            a             1  \n",
      "1017208            a             1  \n"
     ]
    }
   ],
   "source": [
    "print(train.head())\n",
    "print(train.tail())"
   ]
  },
  {
   "cell_type": "code",
   "execution_count": 4,
   "metadata": {},
   "outputs": [
    {
     "data": {
      "text/plain": [
       "0.0"
      ]
     },
     "execution_count": 4,
     "metadata": {},
     "output_type": "execute_result"
    }
   ],
   "source": [
    "train.loc[train['Open'] == 0, 'Sales'].mean()"
   ]
  },
  {
   "cell_type": "code",
   "execution_count": 5,
   "metadata": {},
   "outputs": [],
   "source": [
    "train['Year'] = pd.DatetimeIndex(train['Date']).year\n",
    "train['Month'] = pd.DatetimeIndex(train['Date']).month"
   ]
  },
  {
   "cell_type": "code",
   "execution_count": 6,
   "metadata": {},
   "outputs": [
    {
     "data": {
      "text/plain": [
       "Store                     int64\n",
       "DayOfWeek                 int64\n",
       "Date             datetime64[ns]\n",
       "Year                      int64\n",
       "Month                     int64\n",
       "Customers                 int64\n",
       "Open                      int64\n",
       "Promo                     int64\n",
       "StateHoliday             object\n",
       "SchoolHoliday            object\n",
       "Sales                     int64\n",
       "dtype: object"
      ]
     },
     "execution_count": 6,
     "metadata": {},
     "output_type": "execute_result"
    }
   ],
   "source": [
    "train = train[['Store', 'DayOfWeek', 'Date', 'Year', 'Month', 'Customers', 'Open', 'Promo', 'StateHoliday', 'SchoolHoliday', 'Sales']]\n",
    "train.dtypes"
   ]
  },
  {
   "cell_type": "code",
   "execution_count": 7,
   "metadata": {},
   "outputs": [
    {
     "data": {
      "text/plain": [
       "array(['0', 'a', 'b', 'c'], dtype=object)"
      ]
     },
     "execution_count": 7,
     "metadata": {},
     "output_type": "execute_result"
    }
   ],
   "source": [
    "train['StateHoliday'].unique()"
   ]
  },
  {
   "cell_type": "code",
   "execution_count": 8,
   "metadata": {},
   "outputs": [],
   "source": [
    "train.loc[train['StateHoliday'] == '0', 'StateHoliday'] = 0\n",
    "train.loc[train['StateHoliday'] == 'a', 'StateHoliday'] = 1\n",
    "train.loc[train['StateHoliday'] == 'b', 'StateHoliday'] = 2\n",
    "train.loc[train['StateHoliday'] == 'c', 'StateHoliday'] = 3\n",
    "train['StateHoliday'] = train['StateHoliday'].astype(int, copy=False)"
   ]
  },
  {
   "cell_type": "code",
   "execution_count": 9,
   "metadata": {},
   "outputs": [
    {
     "name": "stdout",
     "output_type": "stream",
     "text": [
      "levels : [0 1 2 3] ; data type : int32\n"
     ]
    }
   ],
   "source": [
    "print('levels :', train['StateHoliday'].unique(), '; data type :', train['StateHoliday'].dtype)"
   ]
  },
  {
   "cell_type": "code",
   "execution_count": 10,
   "metadata": {},
   "outputs": [],
   "source": [
    "def factor_to_integer(df, colname, start_value=0):\n",
    "    while df[colname].dtype == object:\n",
    "        myval = start_value # factor starts at \"start_value\".\n",
    "        for sval in df[colname].unique():\n",
    "            df.loc[df[colname] == sval, colname] = myval\n",
    "            myval += 1\n",
    "        df[colname] = df[colname].astype(int, copy=False)\n",
    "    print('levels :', df[colname].unique(), '; data type :', df[colname].dtype)"
   ]
  },
  {
   "cell_type": "code",
   "execution_count": 11,
   "metadata": {},
   "outputs": [
    {
     "data": {
      "text/plain": [
       "array(['1', '0'], dtype=object)"
      ]
     },
     "execution_count": 11,
     "metadata": {},
     "output_type": "execute_result"
    }
   ],
   "source": [
    "train['SchoolHoliday'].unique()"
   ]
  },
  {
   "cell_type": "code",
   "execution_count": 12,
   "metadata": {},
   "outputs": [
    {
     "name": "stdout",
     "output_type": "stream",
     "text": [
      "levels : [0 1] ; data type : int32\n"
     ]
    }
   ],
   "source": [
    "factor_to_integer(train, 'SchoolHoliday')"
   ]
  },
  {
   "cell_type": "code",
   "execution_count": 13,
   "metadata": {},
   "outputs": [
    {
     "name": "stdout",
     "output_type": "stream",
     "text": [
      "              Store     DayOfWeek          Year         Month     Customers  \\\n",
      "count  1.017209e+06  1.017209e+06  1.017209e+06  1.017209e+06  1.017209e+06   \n",
      "mean   5.584297e+02  3.998341e+00  2.013832e+03  5.846762e+00  6.331459e+02   \n",
      "std    3.219087e+02  1.997391e+00  7.773960e-01  3.326097e+00  4.644117e+02   \n",
      "min    1.000000e+00  1.000000e+00  2.013000e+03  1.000000e+00  0.000000e+00   \n",
      "25%    2.800000e+02  2.000000e+00  2.013000e+03  3.000000e+00  4.050000e+02   \n",
      "50%    5.580000e+02  4.000000e+00  2.014000e+03  6.000000e+00  6.090000e+02   \n",
      "75%    8.380000e+02  6.000000e+00  2.014000e+03  8.000000e+00  8.370000e+02   \n",
      "max    1.115000e+03  7.000000e+00  2.015000e+03  1.200000e+01  7.388000e+03   \n",
      "\n",
      "               Open         Promo  StateHoliday  SchoolHoliday         Sales  \n",
      "count  1.017209e+06  1.017209e+06  1.017209e+06   1.017209e+06  1.017209e+06  \n",
      "mean   8.301067e-01  3.815145e-01  4.516279e-02   8.213533e-01  5.773819e+03  \n",
      "std    3.755392e-01  4.857586e-01  2.836559e-01   3.830564e-01  3.849926e+03  \n",
      "min    0.000000e+00  0.000000e+00  0.000000e+00   0.000000e+00  0.000000e+00  \n",
      "25%    1.000000e+00  0.000000e+00  0.000000e+00   1.000000e+00  3.727000e+03  \n",
      "50%    1.000000e+00  0.000000e+00  0.000000e+00   1.000000e+00  5.744000e+03  \n",
      "75%    1.000000e+00  1.000000e+00  0.000000e+00   1.000000e+00  7.856000e+03  \n",
      "max    1.000000e+00  1.000000e+00  3.000000e+00   1.000000e+00  4.155100e+04  \n"
     ]
    }
   ],
   "source": [
    "train.dtypes\n",
    "print(train.describe())"
   ]
  },
  {
   "cell_type": "code",
   "execution_count": 14,
   "metadata": {},
   "outputs": [
    {
     "data": {
      "text/plain": [
       "array([1, 0], dtype=int64)"
      ]
     },
     "execution_count": 14,
     "metadata": {},
     "output_type": "execute_result"
    }
   ],
   "source": [
    "train['Open'].unique()"
   ]
  },
  {
   "cell_type": "code",
   "execution_count": 15,
   "metadata": {},
   "outputs": [
    {
     "data": {
      "text/plain": [
       "['Store',\n",
       " 'DayOfWeek',\n",
       " 'Date',\n",
       " 'Year',\n",
       " 'Month',\n",
       " 'Customers',\n",
       " 'Open',\n",
       " 'Promo',\n",
       " 'StateHoliday',\n",
       " 'SchoolHoliday',\n",
       " 'Sales']"
      ]
     },
     "execution_count": 15,
     "metadata": {},
     "output_type": "execute_result"
    }
   ],
   "source": [
    "train = train[['Store', 'DayOfWeek', 'Date', 'Year', 'Month', 'Customers', 'Open',\n",
    "               'Promo', 'StateHoliday', 'SchoolHoliday', 'Sales']]\n",
    "list(train.columns.values)"
   ]
  },
  {
   "cell_type": "code",
   "execution_count": 16,
   "metadata": {},
   "outputs": [
    {
     "name": "stdout",
     "output_type": "stream",
     "text": [
      "NANs for individual columns\n",
      "---------------------------\n"
     ]
    },
    {
     "data": {
      "text/plain": [
       "[('Store', 0),\n",
       " ('DayOfWeek', 0),\n",
       " ('Date', 0),\n",
       " ('Year', 0),\n",
       " ('Month', 0),\n",
       " ('Customers', 0),\n",
       " ('Open', 0),\n",
       " ('Promo', 0),\n",
       " ('StateHoliday', 0),\n",
       " ('SchoolHoliday', 0),\n",
       " ('Sales', 0)]"
      ]
     },
     "execution_count": 16,
     "metadata": {},
     "output_type": "execute_result"
    }
   ],
   "source": [
    "print(\"NANs for individual columns\")\n",
    "print(\"---------------------------\")\n",
    "from collections import Counter\n",
    "x = {colname : train[colname].isnull().sum() for colname in train.columns}\n",
    "Counter(x).most_common()"
   ]
  },
  {
   "cell_type": "code",
   "execution_count": 17,
   "metadata": {},
   "outputs": [
    {
     "name": "stdout",
     "output_type": "stream",
     "text": [
      "               DayOfWeek     Sales     Month      Year  Customers     Promo  \\\n",
      "DayOfWeek       1.000000 -0.462125 -0.005362  0.001937  -0.386445 -0.392925   \n",
      "Sales          -0.462125  1.000000  0.048768  0.023519   0.894711  0.452345   \n",
      "Month          -0.005362  0.048768  1.000000 -0.269382   0.038179 -0.011747   \n",
      "Year            0.001937  0.023519 -0.269382  1.000000  -0.001212  0.024300   \n",
      "Customers      -0.386445  0.894711  0.038179 -0.001212   1.000000  0.316169   \n",
      "Promo          -0.392925  0.452345 -0.011747  0.024300   0.316169  1.000000   \n",
      "StateHoliday   -0.044265 -0.229029  0.038058 -0.005067  -0.204295 -0.024157   \n",
      "SchoolHoliday   0.205388 -0.085124 -0.103282  0.036535  -0.071568 -0.067483   \n",
      "\n",
      "               StateHoliday  SchoolHoliday  \n",
      "DayOfWeek         -0.044265       0.205388  \n",
      "Sales             -0.229029      -0.085124  \n",
      "Month              0.038058      -0.103282  \n",
      "Year              -0.005067       0.036535  \n",
      "Customers         -0.204295      -0.071568  \n",
      "Promo             -0.024157      -0.067483  \n",
      "StateHoliday       1.000000      -0.196424  \n",
      "SchoolHoliday     -0.196424       1.000000  \n"
     ]
    }
   ],
   "source": [
    "corMat = pd.DataFrame(train.loc[:, ['DayOfWeek', 'Sales', 'Month', 'Year', 'Customers', 'Promo',\n",
    "                                    'StateHoliday', 'SchoolHoliday']].corr())\n",
    "print(corMat)"
   ]
  },
  {
   "cell_type": "code",
   "execution_count": 18,
   "metadata": {},
   "outputs": [
    {
     "data": {
      "image/png": "[encoded data removed]",
      "text/plain": [
       "<Figure size 432x288 with 1 Axes>"
      ]
     },
     "metadata": {
      "needs_background": "light"
     },
     "output_type": "display_data"
    }
   ],
   "source": [
    "# visualize correlations using heatmap\n",
    "plt.pcolor(corMat)\n",
    "plt.show()"
   ]
  },
  {
   "cell_type": "code",
   "execution_count": 19,
   "metadata": {},
   "outputs": [
    {
     "data": {
      "image/png": "[encoded data removed]",
      "text/plain": [
       "<Figure size 432x288 with 2 Axes>"
      ]
     },
     "metadata": {
      "needs_background": "light"
     },
     "output_type": "display_data"
    }
   ],
   "source": [
    "sns.heatmap(data=corMat)\n",
    "plt.show()"
   ]
  },
  {
   "cell_type": "markdown",
   "metadata": {},
   "source": [
    "Test DataSet"
   ]
  },
  {
   "cell_type": "code",
   "execution_count": 20,
   "metadata": {},
   "outputs": [
    {
     "data": {
      "text/plain": [
       "(41088, 7)"
      ]
     },
     "execution_count": 20,
     "metadata": {},
     "output_type": "execute_result"
    }
   ],
   "source": [
    "test.shape"
   ]
  },
  {
   "cell_type": "code",
   "execution_count": 21,
   "metadata": {},
   "outputs": [],
   "source": [
    "test['Year'] = pd.DatetimeIndex(test['Date']).year\n",
    "test['Month'] = pd.DatetimeIndex(test['Date']).month"
   ]
  },
  {
   "cell_type": "code",
   "execution_count": 22,
   "metadata": {},
   "outputs": [
    {
     "name": "stdout",
     "output_type": "stream",
     "text": [
      "    Store  DayOfWeek       Date  Open  Promo StateHoliday SchoolHoliday  Year  \\\n",
      "Id                                                                              \n",
      "1       1          4 2015-09-17   1.0      1            0             0  2015   \n",
      "2       3          4 2015-09-17   1.0      1            0             0  2015   \n",
      "3       7          4 2015-09-17   1.0      1            0             0  2015   \n",
      "4       8          4 2015-09-17   1.0      1            0             0  2015   \n",
      "5       9          4 2015-09-17   1.0      1            0             0  2015   \n",
      "\n",
      "    Month  \n",
      "Id         \n",
      "1       9  \n",
      "2       9  \n",
      "3       9  \n",
      "4       9  \n",
      "5       9  \n"
     ]
    }
   ],
   "source": [
    "print(test.head())"
   ]
  },
  {
   "cell_type": "code",
   "execution_count": 23,
   "metadata": {},
   "outputs": [
    {
     "data": {
      "text/plain": [
       "5984"
      ]
     },
     "execution_count": 23,
     "metadata": {},
     "output_type": "execute_result"
    }
   ],
   "source": [
    "sum(test['Open'] == 0)"
   ]
  },
  {
   "cell_type": "code",
   "execution_count": 24,
   "metadata": {},
   "outputs": [
    {
     "data": {
      "text/plain": [
       "['Store',\n",
       " 'DayOfWeek',\n",
       " 'Date',\n",
       " 'Year',\n",
       " 'Month',\n",
       " 'Open',\n",
       " 'Promo',\n",
       " 'StateHoliday',\n",
       " 'SchoolHoliday']"
      ]
     },
     "execution_count": 24,
     "metadata": {},
     "output_type": "execute_result"
    }
   ],
   "source": [
    "test = test[['Store', 'DayOfWeek', 'Date', 'Year', 'Month', 'Open',\n",
    "             'Promo', 'StateHoliday', 'SchoolHoliday']]\n",
    "list(test.columns.values)"
   ]
  },
  {
   "cell_type": "code",
   "execution_count": 25,
   "metadata": {},
   "outputs": [
    {
     "name": "stdout",
     "output_type": "stream",
     "text": [
      "NANs for individual columns\n",
      "---------------------------\n"
     ]
    },
    {
     "data": {
      "text/plain": [
       "[('Open', 11),\n",
       " ('Store', 0),\n",
       " ('DayOfWeek', 0),\n",
       " ('Date', 0),\n",
       " ('Year', 0),\n",
       " ('Month', 0),\n",
       " ('Promo', 0),\n",
       " ('StateHoliday', 0),\n",
       " ('SchoolHoliday', 0)]"
      ]
     },
     "execution_count": 25,
     "metadata": {},
     "output_type": "execute_result"
    }
   ],
   "source": [
    "print(\"NANs for individual columns\")\n",
    "print(\"---------------------------\")\n",
    "from collections import Counter\n",
    "x = {colname : test[colname].isnull().sum() for colname in test.columns}\n",
    "Counter(x).most_common()"
   ]
  },
  {
   "cell_type": "code",
   "execution_count": 26,
   "metadata": {},
   "outputs": [
    {
     "name": "stdout",
     "output_type": "stream",
     "text": [
      "       Store  DayOfWeek       Date  Year  Month  Open  Promo StateHoliday  \\\n",
      "Id                                                                          \n",
      "480      622          4 2015-09-17  2015      9   NaN      1            0   \n",
      "1336     622          3 2015-09-16  2015      9   NaN      1            0   \n",
      "2192     622          2 2015-09-15  2015      9   NaN      1            0   \n",
      "3048     622          1 2015-09-14  2015      9   NaN      1            0   \n",
      "4760     622          6 2015-09-12  2015      9   NaN      0            0   \n",
      "5616     622          5 2015-09-11  2015      9   NaN      0            0   \n",
      "6472     622          4 2015-09-10  2015      9   NaN      0            0   \n",
      "7328     622          3 2015-09-09  2015      9   NaN      0            0   \n",
      "8184     622          2 2015-09-08  2015      9   NaN      0            0   \n",
      "9040     622          1 2015-09-07  2015      9   NaN      0            0   \n",
      "10752    622          6 2015-09-05  2015      9   NaN      0            0   \n",
      "\n",
      "      SchoolHoliday  \n",
      "Id                   \n",
      "480               0  \n",
      "1336              0  \n",
      "2192              0  \n",
      "3048              0  \n",
      "4760              0  \n",
      "5616              0  \n",
      "6472              0  \n",
      "7328              0  \n",
      "8184              0  \n",
      "9040              0  \n",
      "10752             0  \n"
     ]
    }
   ],
   "source": [
    "print(test.loc[np.isnan(test['Open'])])"
   ]
  },
  {
   "cell_type": "code",
   "execution_count": 27,
   "metadata": {},
   "outputs": [
    {
     "name": "stdout",
     "output_type": "stream",
     "text": [
      "      Store  DayOfWeek       Date  Year  Month  Customers  Open  Promo  \\\n",
      "621     622          5 2015-07-31  2015      7        540     1      1   \n",
      "1736    622          4 2015-07-30  2015      7        406     1      1   \n",
      "2851    622          3 2015-07-29  2015      7        468     1      1   \n",
      "3966    622          2 2015-07-28  2015      7        417     1      1   \n",
      "5081    622          1 2015-07-27  2015      7        517     1      1   \n",
      "\n",
      "      StateHoliday  SchoolHoliday  Sales  \n",
      "621              0              0   6306  \n",
      "1736             0              0   5412  \n",
      "2851             0              0   5326  \n",
      "3966             0              0   4966  \n",
      "5081             0              0   5413  \n"
     ]
    }
   ],
   "source": [
    "print(train.loc[train['Store'] == 622].head())"
   ]
  },
  {
   "cell_type": "code",
   "execution_count": 28,
   "metadata": {},
   "outputs": [],
   "source": [
    "test.loc[np.isnan(test['Open']), 'Open'] = 1"
   ]
  },
  {
   "cell_type": "code",
   "execution_count": 29,
   "metadata": {},
   "outputs": [
    {
     "name": "stdout",
     "output_type": "stream",
     "text": [
      "NANs for individual columns\n",
      "---------------------------\n"
     ]
    },
    {
     "data": {
      "text/plain": [
       "[('Store', 0),\n",
       " ('DayOfWeek', 0),\n",
       " ('Date', 0),\n",
       " ('Year', 0),\n",
       " ('Month', 0),\n",
       " ('Open', 0),\n",
       " ('Promo', 0),\n",
       " ('StateHoliday', 0),\n",
       " ('SchoolHoliday', 0)]"
      ]
     },
     "execution_count": 29,
     "metadata": {},
     "output_type": "execute_result"
    }
   ],
   "source": [
    "print(\"NANs for individual columns\")\n",
    "print(\"---------------------------\")\n",
    "from collections import Counter\n",
    "x = {colname : test[colname].isnull().sum() for colname in test.columns}\n",
    "Counter(x).most_common()"
   ]
  },
  {
   "cell_type": "code",
   "execution_count": 30,
   "metadata": {},
   "outputs": [
    {
     "data": {
      "text/plain": [
       "Store                     int64\n",
       "DayOfWeek                 int64\n",
       "Date             datetime64[ns]\n",
       "Year                      int64\n",
       "Month                     int64\n",
       "Open                    float64\n",
       "Promo                     int64\n",
       "StateHoliday             object\n",
       "SchoolHoliday            object\n",
       "dtype: object"
      ]
     },
     "execution_count": 30,
     "metadata": {},
     "output_type": "execute_result"
    }
   ],
   "source": [
    "test.dtypes"
   ]
  },
  {
   "cell_type": "code",
   "execution_count": 31,
   "metadata": {},
   "outputs": [
    {
     "data": {
      "text/plain": [
       "array(['0', 'a'], dtype=object)"
      ]
     },
     "execution_count": 31,
     "metadata": {},
     "output_type": "execute_result"
    }
   ],
   "source": [
    "test['StateHoliday'].unique()"
   ]
  },
  {
   "cell_type": "code",
   "execution_count": 32,
   "metadata": {},
   "outputs": [
    {
     "data": {
      "text/plain": [
       "array(['0', '1'], dtype=object)"
      ]
     },
     "execution_count": 32,
     "metadata": {},
     "output_type": "execute_result"
    }
   ],
   "source": [
    "test['SchoolHoliday'].unique()"
   ]
  },
  {
   "cell_type": "code",
   "execution_count": 33,
   "metadata": {},
   "outputs": [
    {
     "name": "stdout",
     "output_type": "stream",
     "text": [
      "levels : [0 1] ; data type : int32\n",
      "levels : [0 1] ; data type : int32\n"
     ]
    },
    {
     "data": {
      "text/plain": [
       "Store                     int64\n",
       "DayOfWeek                 int64\n",
       "Date             datetime64[ns]\n",
       "Year                      int64\n",
       "Month                     int64\n",
       "Open                    float64\n",
       "Promo                     int64\n",
       "StateHoliday              int32\n",
       "SchoolHoliday             int32\n",
       "dtype: object"
      ]
     },
     "execution_count": 33,
     "metadata": {},
     "output_type": "execute_result"
    }
   ],
   "source": [
    "factor_to_integer(test, 'StateHoliday')\n",
    "factor_to_integer(test, 'SchoolHoliday')\n",
    "test.dtypes"
   ]
  },
  {
   "cell_type": "code",
   "execution_count": 34,
   "metadata": {},
   "outputs": [
    {
     "data": {
      "text/plain": [
       "(10790, 11)"
      ]
     },
     "execution_count": 34,
     "metadata": {},
     "output_type": "execute_result"
    }
   ],
   "source": [
    "train.loc[train['StateHoliday'] > 1].shape"
   ]
  },
  {
   "cell_type": "code",
   "execution_count": 35,
   "metadata": {},
   "outputs": [],
   "source": [
    "train = train.loc[train['StateHoliday'] < 2]"
   ]
  },
  {
   "cell_type": "markdown",
   "metadata": {},
   "source": [
    "Store Dataset"
   ]
  },
  {
   "cell_type": "code",
   "execution_count": 36,
   "metadata": {},
   "outputs": [
    {
     "data": {
      "text/plain": [
       "(1115, 10)"
      ]
     },
     "execution_count": 36,
     "metadata": {},
     "output_type": "execute_result"
    }
   ],
   "source": [
    "store.shape"
   ]
  },
  {
   "cell_type": "code",
   "execution_count": 37,
   "metadata": {},
   "outputs": [
    {
     "name": "stdout",
     "output_type": "stream",
     "text": [
      "   Store StoreType Assortment  CompetitionDistance  CompetitionOpenSinceMonth  \\\n",
      "0      1         c          a               1270.0                        9.0   \n",
      "1      2         a          a                570.0                       11.0   \n",
      "2      3         a          a              14130.0                       12.0   \n",
      "3      4         c          c                620.0                        9.0   \n",
      "4      5         a          a              29910.0                        4.0   \n",
      "\n",
      "   CompetitionOpenSinceYear  Promo2  Promo2SinceWeek  Promo2SinceYear  \\\n",
      "0                    2008.0       0              NaN              NaN   \n",
      "1                    2007.0       1             13.0           2010.0   \n",
      "2                    2006.0       1             14.0           2011.0   \n",
      "3                    2009.0       0              NaN              NaN   \n",
      "4                    2015.0       0              NaN              NaN   \n",
      "\n",
      "     PromoInterval  \n",
      "0              NaN  \n",
      "1  Jan,Apr,Jul,Oct  \n",
      "2  Jan,Apr,Jul,Oct  \n",
      "3              NaN  \n",
      "4              NaN  \n"
     ]
    }
   ],
   "source": [
    "print(store.head())"
   ]
  },
  {
   "cell_type": "code",
   "execution_count": 38,
   "metadata": {},
   "outputs": [
    {
     "data": {
      "text/html": [
       "<div>\n",
       "<style scoped>\n",
       "    .dataframe tbody tr th:only-of-type {\n",
       "        vertical-align: middle;\n",
       "    }\n",
       "\n",
       "    .dataframe tbody tr th {\n",
       "        vertical-align: top;\n",
       "    }\n",
       "\n",
       "    .dataframe thead th {\n",
       "        text-align: right;\n",
       "    }\n",
       "</style>\n",
       "<table border=\"1\" class=\"dataframe\">\n",
       "  <thead>\n",
       "    <tr style=\"text-align: right;\">\n",
       "      <th></th>\n",
       "      <th>Store</th>\n",
       "      <th>StoreType</th>\n",
       "      <th>Assortment</th>\n",
       "      <th>CompetitionDistance</th>\n",
       "      <th>CompetitionOpenSinceMonth</th>\n",
       "      <th>CompetitionOpenSinceYear</th>\n",
       "      <th>Promo2</th>\n",
       "      <th>Promo2SinceWeek</th>\n",
       "      <th>Promo2SinceYear</th>\n",
       "      <th>PromoInterval</th>\n",
       "    </tr>\n",
       "  </thead>\n",
       "  <tbody>\n",
       "    <tr>\n",
       "      <th>1110</th>\n",
       "      <td>1111</td>\n",
       "      <td>a</td>\n",
       "      <td>a</td>\n",
       "      <td>1900.0</td>\n",
       "      <td>6.0</td>\n",
       "      <td>2014.0</td>\n",
       "      <td>1</td>\n",
       "      <td>31.0</td>\n",
       "      <td>2013.0</td>\n",
       "      <td>Jan,Apr,Jul,Oct</td>\n",
       "    </tr>\n",
       "    <tr>\n",
       "      <th>1111</th>\n",
       "      <td>1112</td>\n",
       "      <td>c</td>\n",
       "      <td>c</td>\n",
       "      <td>1880.0</td>\n",
       "      <td>4.0</td>\n",
       "      <td>2006.0</td>\n",
       "      <td>0</td>\n",
       "      <td>NaN</td>\n",
       "      <td>NaN</td>\n",
       "      <td>NaN</td>\n",
       "    </tr>\n",
       "    <tr>\n",
       "      <th>1112</th>\n",
       "      <td>1113</td>\n",
       "      <td>a</td>\n",
       "      <td>c</td>\n",
       "      <td>9260.0</td>\n",
       "      <td>NaN</td>\n",
       "      <td>NaN</td>\n",
       "      <td>0</td>\n",
       "      <td>NaN</td>\n",
       "      <td>NaN</td>\n",
       "      <td>NaN</td>\n",
       "    </tr>\n",
       "    <tr>\n",
       "      <th>1113</th>\n",
       "      <td>1114</td>\n",
       "      <td>a</td>\n",
       "      <td>c</td>\n",
       "      <td>870.0</td>\n",
       "      <td>NaN</td>\n",
       "      <td>NaN</td>\n",
       "      <td>0</td>\n",
       "      <td>NaN</td>\n",
       "      <td>NaN</td>\n",
       "      <td>NaN</td>\n",
       "    </tr>\n",
       "    <tr>\n",
       "      <th>1114</th>\n",
       "      <td>1115</td>\n",
       "      <td>d</td>\n",
       "      <td>c</td>\n",
       "      <td>5350.0</td>\n",
       "      <td>NaN</td>\n",
       "      <td>NaN</td>\n",
       "      <td>1</td>\n",
       "      <td>22.0</td>\n",
       "      <td>2012.0</td>\n",
       "      <td>Mar,Jun,Sept,Dec</td>\n",
       "    </tr>\n",
       "  </tbody>\n",
       "</table>\n",
       "</div>"
      ],
      "text/plain": [
       "      Store StoreType Assortment  CompetitionDistance  \\\n",
       "1110   1111         a          a               1900.0   \n",
       "1111   1112         c          c               1880.0   \n",
       "1112   1113         a          c               9260.0   \n",
       "1113   1114         a          c                870.0   \n",
       "1114   1115         d          c               5350.0   \n",
       "\n",
       "      CompetitionOpenSinceMonth  CompetitionOpenSinceYear  Promo2  \\\n",
       "1110                        6.0                    2014.0       1   \n",
       "1111                        4.0                    2006.0       0   \n",
       "1112                        NaN                       NaN       0   \n",
       "1113                        NaN                       NaN       0   \n",
       "1114                        NaN                       NaN       1   \n",
       "\n",
       "      Promo2SinceWeek  Promo2SinceYear     PromoInterval  \n",
       "1110             31.0           2013.0   Jan,Apr,Jul,Oct  \n",
       "1111              NaN              NaN               NaN  \n",
       "1112              NaN              NaN               NaN  \n",
       "1113              NaN              NaN               NaN  \n",
       "1114             22.0           2012.0  Mar,Jun,Sept,Dec  "
      ]
     },
     "execution_count": 38,
     "metadata": {},
     "output_type": "execute_result"
    }
   ],
   "source": [
    "store.tail()"
   ]
  },
  {
   "cell_type": "code",
   "execution_count": 39,
   "metadata": {},
   "outputs": [
    {
     "name": "stdout",
     "output_type": "stream",
     "text": [
      "NANs for individual columns\n",
      "---------------------------\n"
     ]
    },
    {
     "data": {
      "text/plain": [
       "[('Promo2SinceWeek', 544),\n",
       " ('Promo2SinceYear', 544),\n",
       " ('PromoInterval', 544),\n",
       " ('CompetitionOpenSinceMonth', 354),\n",
       " ('CompetitionOpenSinceYear', 354),\n",
       " ('CompetitionDistance', 3),\n",
       " ('Store', 0),\n",
       " ('StoreType', 0),\n",
       " ('Assortment', 0),\n",
       " ('Promo2', 0)]"
      ]
     },
     "execution_count": 39,
     "metadata": {},
     "output_type": "execute_result"
    }
   ],
   "source": [
    "print(\"NANs for individual columns\")\n",
    "print(\"---------------------------\")\n",
    "from collections import Counter\n",
    "x = {colname : store[colname].isnull().sum() for colname in store.columns}\n",
    "Counter(x).most_common()"
   ]
  },
  {
   "cell_type": "code",
   "execution_count": 40,
   "metadata": {},
   "outputs": [
    {
     "data": {
      "text/plain": [
       "array([nan, 'Jan,Apr,Jul,Oct', 'Feb,May,Aug,Nov', 'Mar,Jun,Sept,Dec'],\n",
       "      dtype=object)"
      ]
     },
     "execution_count": 40,
     "metadata": {},
     "output_type": "execute_result"
    }
   ],
   "source": [
    "store['PromoInterval'].unique()"
   ]
  },
  {
   "cell_type": "code",
   "execution_count": 41,
   "metadata": {},
   "outputs": [],
   "source": [
    "store.loc[store['Promo2'] == 0, ['Promo2SinceWeek', 'Promo2SinceYear', 'PromoInterval']] = 0"
   ]
  },
  {
   "cell_type": "code",
   "execution_count": 42,
   "metadata": {},
   "outputs": [],
   "source": [
    "store.loc[store['Promo2'] != 0, 'Promo2SinceWeek'] = store['Promo2SinceWeek'].max() - store.loc[store['Promo2'] != 0, 'Promo2SinceWeek']"
   ]
  },
  {
   "cell_type": "code",
   "execution_count": 43,
   "metadata": {},
   "outputs": [],
   "source": [
    "store.loc[store['Promo2'] != 0, 'Promo2SinceYear'] = store['Promo2SinceYear'].max() - store.loc[store['Promo2'] != 0, 'Promo2SinceYear']"
   ]
  },
  {
   "cell_type": "code",
   "execution_count": 44,
   "metadata": {},
   "outputs": [
    {
     "name": "stdout",
     "output_type": "stream",
     "text": [
      "levels : [0 1 2 3] ; data type : int32\n"
     ]
    }
   ],
   "source": [
    "factor_to_integer(store, 'PromoInterval', start_value=0)"
   ]
  },
  {
   "cell_type": "code",
   "execution_count": 45,
   "metadata": {},
   "outputs": [
    {
     "data": {
      "text/plain": [
       "Store                          int64\n",
       "StoreType                     object\n",
       "Assortment                    object\n",
       "CompetitionDistance          float64\n",
       "CompetitionOpenSinceMonth    float64\n",
       "CompetitionOpenSinceYear     float64\n",
       "Promo2                         int64\n",
       "Promo2SinceWeek              float64\n",
       "Promo2SinceYear              float64\n",
       "PromoInterval                  int32\n",
       "dtype: object"
      ]
     },
     "execution_count": 45,
     "metadata": {},
     "output_type": "execute_result"
    }
   ],
   "source": [
    "store.dtypes"
   ]
  },
  {
   "cell_type": "code",
   "execution_count": 46,
   "metadata": {},
   "outputs": [
    {
     "name": "stdout",
     "output_type": "stream",
     "text": [
      "levels : [0 1 2 3] ; data type : int32\n",
      "levels : [0 1 2] ; data type : int32\n"
     ]
    },
    {
     "data": {
      "text/plain": [
       "Store                          int64\n",
       "StoreType                      int32\n",
       "Assortment                     int32\n",
       "CompetitionDistance          float64\n",
       "CompetitionOpenSinceMonth    float64\n",
       "CompetitionOpenSinceYear     float64\n",
       "Promo2                         int64\n",
       "Promo2SinceWeek              float64\n",
       "Promo2SinceYear              float64\n",
       "PromoInterval                  int32\n",
       "dtype: object"
      ]
     },
     "execution_count": 46,
     "metadata": {},
     "output_type": "execute_result"
    }
   ],
   "source": [
    "factor_to_integer(store, 'StoreType')\n",
    "factor_to_integer(store, 'Assortment')\n",
    "store.dtypes"
   ]
  },
  {
   "cell_type": "code",
   "execution_count": 47,
   "metadata": {},
   "outputs": [
    {
     "name": "stdout",
     "output_type": "stream",
     "text": [
      "   Store  StoreType  Assortment  CompetitionDistance  \\\n",
      "0      1          0           0               1270.0   \n",
      "1      2          1           0                570.0   \n",
      "2      3          1           0              14130.0   \n",
      "3      4          0           1                620.0   \n",
      "4      5          1           0              29910.0   \n",
      "\n",
      "   CompetitionOpenSinceMonth  CompetitionOpenSinceYear  Promo2  \\\n",
      "0                        9.0                    2008.0       0   \n",
      "1                       11.0                    2007.0       1   \n",
      "2                       12.0                    2006.0       1   \n",
      "3                        9.0                    2009.0       0   \n",
      "4                        4.0                    2015.0       0   \n",
      "\n",
      "   Promo2SinceWeek  Promo2SinceYear  PromoInterval  \n",
      "0              0.0              0.0              0  \n",
      "1             37.0              5.0              1  \n",
      "2             36.0              4.0              1  \n",
      "3              0.0              0.0              0  \n",
      "4              0.0              0.0              0  \n"
     ]
    }
   ],
   "source": [
    "print(store.head())"
   ]
  },
  {
   "cell_type": "code",
   "execution_count": 48,
   "metadata": {},
   "outputs": [
    {
     "name": "stdout",
     "output_type": "stream",
     "text": [
      "NANs for individual columns\n",
      "---------------------------\n"
     ]
    },
    {
     "data": {
      "text/plain": [
       "[('CompetitionOpenSinceMonth', 354),\n",
       " ('CompetitionOpenSinceYear', 354),\n",
       " ('CompetitionDistance', 3),\n",
       " ('Store', 0),\n",
       " ('StoreType', 0),\n",
       " ('Assortment', 0),\n",
       " ('Promo2', 0),\n",
       " ('Promo2SinceWeek', 0),\n",
       " ('Promo2SinceYear', 0),\n",
       " ('PromoInterval', 0)]"
      ]
     },
     "execution_count": 48,
     "metadata": {},
     "output_type": "execute_result"
    }
   ],
   "source": [
    "print(\"NANs for individual columns\")\n",
    "print(\"---------------------------\")\n",
    "from collections import Counter\n",
    "x = {colname : store[colname].isnull().sum() for colname in store.columns}\n",
    "Counter(x).most_common()"
   ]
  },
  {
   "cell_type": "markdown",
   "metadata": {},
   "source": [
    "Filling the missing values with sklearn’s built-in command. Filling with the column.mean()."
   ]
  },
  {
   "cell_type": "code",
   "execution_count": 49,
   "metadata": {},
   "outputs": [],
   "source": [
    "from sklearn.impute import SimpleImputer\n",
    "imputer = SimpleImputer().fit(store)\n",
    "store_imputed = imputer.transform(store)"
   ]
  },
  {
   "cell_type": "code",
   "execution_count": 50,
   "metadata": {},
   "outputs": [],
   "source": [
    "store2 = pd.DataFrame(store_imputed, columns=store.columns.values)"
   ]
  },
  {
   "cell_type": "code",
   "execution_count": 51,
   "metadata": {},
   "outputs": [
    {
     "name": "stdout",
     "output_type": "stream",
     "text": [
      "NANs for individual columns\n",
      "---------------------------\n"
     ]
    },
    {
     "data": {
      "text/plain": [
       "[('Store', 0),\n",
       " ('StoreType', 0),\n",
       " ('Assortment', 0),\n",
       " ('CompetitionDistance', 0),\n",
       " ('CompetitionOpenSinceMonth', 0),\n",
       " ('CompetitionOpenSinceYear', 0),\n",
       " ('Promo2', 0),\n",
       " ('Promo2SinceWeek', 0),\n",
       " ('Promo2SinceYear', 0),\n",
       " ('PromoInterval', 0)]"
      ]
     },
     "execution_count": 51,
     "metadata": {},
     "output_type": "execute_result"
    }
   ],
   "source": [
    "print(\"NANs for individual columns\")\n",
    "print(\"---------------------------\")\n",
    "from collections import Counter\n",
    "x = {colname : store2[colname].isnull().sum() for colname in store2.columns}\n",
    "Counter(x).most_common()"
   ]
  },
  {
   "cell_type": "code",
   "execution_count": 52,
   "metadata": {},
   "outputs": [
    {
     "data": {
      "text/html": [
       "<div>\n",
       "<style scoped>\n",
       "    .dataframe tbody tr th:only-of-type {\n",
       "        vertical-align: middle;\n",
       "    }\n",
       "\n",
       "    .dataframe tbody tr th {\n",
       "        vertical-align: top;\n",
       "    }\n",
       "\n",
       "    .dataframe thead th {\n",
       "        text-align: right;\n",
       "    }\n",
       "</style>\n",
       "<table border=\"1\" class=\"dataframe\">\n",
       "  <thead>\n",
       "    <tr style=\"text-align: right;\">\n",
       "      <th></th>\n",
       "      <th>Store</th>\n",
       "      <th>StoreType</th>\n",
       "      <th>Assortment</th>\n",
       "      <th>CompetitionDistance</th>\n",
       "      <th>CompetitionOpenSinceMonth</th>\n",
       "      <th>CompetitionOpenSinceYear</th>\n",
       "      <th>Promo2</th>\n",
       "      <th>Promo2SinceWeek</th>\n",
       "      <th>Promo2SinceYear</th>\n",
       "      <th>PromoInterval</th>\n",
       "    </tr>\n",
       "  </thead>\n",
       "  <tbody>\n",
       "    <tr>\n",
       "      <th>0</th>\n",
       "      <td>1.0</td>\n",
       "      <td>0.0</td>\n",
       "      <td>0.0</td>\n",
       "      <td>1270.0</td>\n",
       "      <td>9.0</td>\n",
       "      <td>2008.0</td>\n",
       "      <td>0.0</td>\n",
       "      <td>0.0</td>\n",
       "      <td>0.0</td>\n",
       "      <td>0.0</td>\n",
       "    </tr>\n",
       "    <tr>\n",
       "      <th>1</th>\n",
       "      <td>2.0</td>\n",
       "      <td>1.0</td>\n",
       "      <td>0.0</td>\n",
       "      <td>570.0</td>\n",
       "      <td>11.0</td>\n",
       "      <td>2007.0</td>\n",
       "      <td>1.0</td>\n",
       "      <td>37.0</td>\n",
       "      <td>5.0</td>\n",
       "      <td>1.0</td>\n",
       "    </tr>\n",
       "    <tr>\n",
       "      <th>2</th>\n",
       "      <td>3.0</td>\n",
       "      <td>1.0</td>\n",
       "      <td>0.0</td>\n",
       "      <td>14130.0</td>\n",
       "      <td>12.0</td>\n",
       "      <td>2006.0</td>\n",
       "      <td>1.0</td>\n",
       "      <td>36.0</td>\n",
       "      <td>4.0</td>\n",
       "      <td>1.0</td>\n",
       "    </tr>\n",
       "    <tr>\n",
       "      <th>3</th>\n",
       "      <td>4.0</td>\n",
       "      <td>0.0</td>\n",
       "      <td>1.0</td>\n",
       "      <td>620.0</td>\n",
       "      <td>9.0</td>\n",
       "      <td>2009.0</td>\n",
       "      <td>0.0</td>\n",
       "      <td>0.0</td>\n",
       "      <td>0.0</td>\n",
       "      <td>0.0</td>\n",
       "    </tr>\n",
       "    <tr>\n",
       "      <th>4</th>\n",
       "      <td>5.0</td>\n",
       "      <td>1.0</td>\n",
       "      <td>0.0</td>\n",
       "      <td>29910.0</td>\n",
       "      <td>4.0</td>\n",
       "      <td>2015.0</td>\n",
       "      <td>0.0</td>\n",
       "      <td>0.0</td>\n",
       "      <td>0.0</td>\n",
       "      <td>0.0</td>\n",
       "    </tr>\n",
       "  </tbody>\n",
       "</table>\n",
       "</div>"
      ],
      "text/plain": [
       "   Store  StoreType  Assortment  CompetitionDistance  \\\n",
       "0    1.0        0.0         0.0               1270.0   \n",
       "1    2.0        1.0         0.0                570.0   \n",
       "2    3.0        1.0         0.0              14130.0   \n",
       "3    4.0        0.0         1.0                620.0   \n",
       "4    5.0        1.0         0.0              29910.0   \n",
       "\n",
       "   CompetitionOpenSinceMonth  CompetitionOpenSinceYear  Promo2  \\\n",
       "0                        9.0                    2008.0     0.0   \n",
       "1                       11.0                    2007.0     1.0   \n",
       "2                       12.0                    2006.0     1.0   \n",
       "3                        9.0                    2009.0     0.0   \n",
       "4                        4.0                    2015.0     0.0   \n",
       "\n",
       "   Promo2SinceWeek  Promo2SinceYear  PromoInterval  \n",
       "0              0.0              0.0            0.0  \n",
       "1             37.0              5.0            1.0  \n",
       "2             36.0              4.0            1.0  \n",
       "3              0.0              0.0            0.0  \n",
       "4              0.0              0.0            0.0  "
      ]
     },
     "execution_count": 52,
     "metadata": {},
     "output_type": "execute_result"
    }
   ],
   "source": [
    "store2.head()"
   ]
  },
  {
   "cell_type": "code",
   "execution_count": 53,
   "metadata": {},
   "outputs": [],
   "source": [
    "store2['CompetitionOpenSinceMonth'] = store2['CompetitionOpenSinceMonth'].max() - store2['CompetitionOpenSinceMonth']"
   ]
  },
  {
   "cell_type": "code",
   "execution_count": 54,
   "metadata": {},
   "outputs": [],
   "source": [
    "store2['CompetitionOpenSinceYear'] = store2['CompetitionOpenSinceYear'].max() - store2['CompetitionOpenSinceYear']"
   ]
  },
  {
   "cell_type": "code",
   "execution_count": 55,
   "metadata": {},
   "outputs": [
    {
     "data": {
      "text/html": [
       "<div>\n",
       "<style scoped>\n",
       "    .dataframe tbody tr th:only-of-type {\n",
       "        vertical-align: middle;\n",
       "    }\n",
       "\n",
       "    .dataframe tbody tr th {\n",
       "        vertical-align: top;\n",
       "    }\n",
       "\n",
       "    .dataframe thead th {\n",
       "        text-align: right;\n",
       "    }\n",
       "</style>\n",
       "<table border=\"1\" class=\"dataframe\">\n",
       "  <thead>\n",
       "    <tr style=\"text-align: right;\">\n",
       "      <th></th>\n",
       "      <th>Store</th>\n",
       "      <th>StoreType</th>\n",
       "      <th>Assortment</th>\n",
       "      <th>CompetitionDistance</th>\n",
       "      <th>CompetitionOpenSinceMonth</th>\n",
       "      <th>CompetitionOpenSinceYear</th>\n",
       "      <th>Promo2</th>\n",
       "      <th>Promo2SinceWeek</th>\n",
       "      <th>Promo2SinceYear</th>\n",
       "      <th>PromoInterval</th>\n",
       "    </tr>\n",
       "  </thead>\n",
       "  <tbody>\n",
       "    <tr>\n",
       "      <th>1110</th>\n",
       "      <td>1111.0</td>\n",
       "      <td>1.0</td>\n",
       "      <td>0.0</td>\n",
       "      <td>1900.0</td>\n",
       "      <td>6.000000</td>\n",
       "      <td>1.000000</td>\n",
       "      <td>1.0</td>\n",
       "      <td>19.0</td>\n",
       "      <td>2.0</td>\n",
       "      <td>1.0</td>\n",
       "    </tr>\n",
       "    <tr>\n",
       "      <th>1111</th>\n",
       "      <td>1112.0</td>\n",
       "      <td>0.0</td>\n",
       "      <td>1.0</td>\n",
       "      <td>1880.0</td>\n",
       "      <td>8.000000</td>\n",
       "      <td>9.000000</td>\n",
       "      <td>0.0</td>\n",
       "      <td>0.0</td>\n",
       "      <td>0.0</td>\n",
       "      <td>0.0</td>\n",
       "    </tr>\n",
       "    <tr>\n",
       "      <th>1112</th>\n",
       "      <td>1113.0</td>\n",
       "      <td>1.0</td>\n",
       "      <td>1.0</td>\n",
       "      <td>9260.0</td>\n",
       "      <td>4.775296</td>\n",
       "      <td>6.331143</td>\n",
       "      <td>0.0</td>\n",
       "      <td>0.0</td>\n",
       "      <td>0.0</td>\n",
       "      <td>0.0</td>\n",
       "    </tr>\n",
       "    <tr>\n",
       "      <th>1113</th>\n",
       "      <td>1114.0</td>\n",
       "      <td>1.0</td>\n",
       "      <td>1.0</td>\n",
       "      <td>870.0</td>\n",
       "      <td>4.775296</td>\n",
       "      <td>6.331143</td>\n",
       "      <td>0.0</td>\n",
       "      <td>0.0</td>\n",
       "      <td>0.0</td>\n",
       "      <td>0.0</td>\n",
       "    </tr>\n",
       "    <tr>\n",
       "      <th>1114</th>\n",
       "      <td>1115.0</td>\n",
       "      <td>2.0</td>\n",
       "      <td>1.0</td>\n",
       "      <td>5350.0</td>\n",
       "      <td>4.775296</td>\n",
       "      <td>6.331143</td>\n",
       "      <td>1.0</td>\n",
       "      <td>28.0</td>\n",
       "      <td>3.0</td>\n",
       "      <td>3.0</td>\n",
       "    </tr>\n",
       "  </tbody>\n",
       "</table>\n",
       "</div>"
      ],
      "text/plain": [
       "       Store  StoreType  Assortment  CompetitionDistance  \\\n",
       "1110  1111.0        1.0         0.0               1900.0   \n",
       "1111  1112.0        0.0         1.0               1880.0   \n",
       "1112  1113.0        1.0         1.0               9260.0   \n",
       "1113  1114.0        1.0         1.0                870.0   \n",
       "1114  1115.0        2.0         1.0               5350.0   \n",
       "\n",
       "      CompetitionOpenSinceMonth  CompetitionOpenSinceYear  Promo2  \\\n",
       "1110                   6.000000                  1.000000     1.0   \n",
       "1111                   8.000000                  9.000000     0.0   \n",
       "1112                   4.775296                  6.331143     0.0   \n",
       "1113                   4.775296                  6.331143     0.0   \n",
       "1114                   4.775296                  6.331143     1.0   \n",
       "\n",
       "      Promo2SinceWeek  Promo2SinceYear  PromoInterval  \n",
       "1110             19.0              2.0            1.0  \n",
       "1111              0.0              0.0            0.0  \n",
       "1112              0.0              0.0            0.0  \n",
       "1113              0.0              0.0            0.0  \n",
       "1114             28.0              3.0            3.0  "
      ]
     },
     "execution_count": 55,
     "metadata": {},
     "output_type": "execute_result"
    }
   ],
   "source": [
    "store2.tail()"
   ]
  },
  {
   "cell_type": "code",
   "execution_count": 56,
   "metadata": {},
   "outputs": [
    {
     "data": {
      "text/plain": [
       "0"
      ]
     },
     "execution_count": 56,
     "metadata": {},
     "output_type": "execute_result"
    }
   ],
   "source": [
    "len(store2['Store']) - sum(store2['Store'].isin(train['Store']))"
   ]
  },
  {
   "cell_type": "markdown",
   "metadata": {},
   "source": [
    "Checking if there are additional (unnecessary) stores in \"train\" data.\n",
    "No difference at all!"
   ]
  },
  {
   "cell_type": "code",
   "execution_count": 57,
   "metadata": {},
   "outputs": [
    {
     "data": {
      "text/plain": [
       "0"
      ]
     },
     "execution_count": 57,
     "metadata": {},
     "output_type": "execute_result"
    }
   ],
   "source": [
    "StoreStore = pd.Series(store2['Store']); StoreTrain = pd.Series(train['Store'])\n",
    "sum(StoreTrain.isin(StoreStore) == False)"
   ]
  },
  {
   "cell_type": "code",
   "execution_count": 58,
   "metadata": {},
   "outputs": [],
   "source": [
    "train_store = pd.merge(train, store2, how = 'left', on='Store')"
   ]
  },
  {
   "cell_type": "code",
   "execution_count": 59,
   "metadata": {},
   "outputs": [
    {
     "name": "stdout",
     "output_type": "stream",
     "text": [
      "   Store  DayOfWeek       Date  Year  Month  Customers  Open  Promo  \\\n",
      "0      1          5 2015-07-31  2015      7        555     1      1   \n",
      "1      2          5 2015-07-31  2015      7        625     1      1   \n",
      "2      3          5 2015-07-31  2015      7        821     1      1   \n",
      "3      4          5 2015-07-31  2015      7       1498     1      1   \n",
      "4      5          5 2015-07-31  2015      7        559     1      1   \n",
      "\n",
      "   StateHoliday  SchoolHoliday  Sales  StoreType  Assortment  \\\n",
      "0             0              0   5263        0.0         0.0   \n",
      "1             0              0   6064        1.0         0.0   \n",
      "2             0              0   8314        1.0         0.0   \n",
      "3             0              0  13995        0.0         1.0   \n",
      "4             0              0   4822        1.0         0.0   \n",
      "\n",
      "   CompetitionDistance  CompetitionOpenSinceMonth  CompetitionOpenSinceYear  \\\n",
      "0               1270.0                        3.0                       7.0   \n",
      "1                570.0                        1.0                       8.0   \n",
      "2              14130.0                        0.0                       9.0   \n",
      "3                620.0                        3.0                       6.0   \n",
      "4              29910.0                        8.0                       0.0   \n",
      "\n",
      "   Promo2  Promo2SinceWeek  Promo2SinceYear  PromoInterval  \n",
      "0     0.0              0.0              0.0            0.0  \n",
      "1     1.0             37.0              5.0            1.0  \n",
      "2     1.0             36.0              4.0            1.0  \n",
      "3     0.0              0.0              0.0            0.0  \n",
      "4     0.0              0.0              0.0            0.0  \n"
     ]
    }
   ],
   "source": [
    "print(train_store.head())"
   ]
  },
  {
   "cell_type": "code",
   "execution_count": 60,
   "metadata": {},
   "outputs": [
    {
     "name": "stdout",
     "output_type": "stream",
     "text": [
      "         Store  DayOfWeek       Date  Year  Month  Customers  Open  Promo  \\\n",
      "1006414   1111          2 2013-01-01  2013      1          0     0      0   \n",
      "1006415   1112          2 2013-01-01  2013      1          0     0      0   \n",
      "1006416   1113          2 2013-01-01  2013      1          0     0      0   \n",
      "1006417   1114          2 2013-01-01  2013      1          0     0      0   \n",
      "1006418   1115          2 2013-01-01  2013      1          0     0      0   \n",
      "\n",
      "         StateHoliday  SchoolHoliday  Sales  StoreType  Assortment  \\\n",
      "1006414             1              0      0        1.0         0.0   \n",
      "1006415             1              0      0        0.0         1.0   \n",
      "1006416             1              0      0        1.0         1.0   \n",
      "1006417             1              0      0        1.0         1.0   \n",
      "1006418             1              0      0        2.0         1.0   \n",
      "\n",
      "         CompetitionDistance  CompetitionOpenSinceMonth  \\\n",
      "1006414               1900.0                   6.000000   \n",
      "1006415               1880.0                   8.000000   \n",
      "1006416               9260.0                   4.775296   \n",
      "1006417                870.0                   4.775296   \n",
      "1006418               5350.0                   4.775296   \n",
      "\n",
      "         CompetitionOpenSinceYear  Promo2  Promo2SinceWeek  Promo2SinceYear  \\\n",
      "1006414                  1.000000     1.0             19.0              2.0   \n",
      "1006415                  9.000000     0.0              0.0              0.0   \n",
      "1006416                  6.331143     0.0              0.0              0.0   \n",
      "1006417                  6.331143     0.0              0.0              0.0   \n",
      "1006418                  6.331143     1.0             28.0              3.0   \n",
      "\n",
      "         PromoInterval  \n",
      "1006414            1.0  \n",
      "1006415            0.0  \n",
      "1006416            0.0  \n",
      "1006417            0.0  \n",
      "1006418            3.0  \n"
     ]
    }
   ],
   "source": [
    "print(train_store.tail())"
   ]
  },
  {
   "cell_type": "code",
   "execution_count": 61,
   "metadata": {},
   "outputs": [],
   "source": [
    "test_store = test.reset_index().merge(store2, how = 'left', on='Store').set_index('Id')"
   ]
  },
  {
   "cell_type": "code",
   "execution_count": 62,
   "metadata": {},
   "outputs": [
    {
     "name": "stdout",
     "output_type": "stream",
     "text": [
      "    Store  DayOfWeek       Date  Year  Month  Open  Promo  StateHoliday  \\\n",
      "Id                                                                        \n",
      "1       1          4 2015-09-17  2015      9   1.0      1             0   \n",
      "2       3          4 2015-09-17  2015      9   1.0      1             0   \n",
      "3       7          4 2015-09-17  2015      9   1.0      1             0   \n",
      "4       8          4 2015-09-17  2015      9   1.0      1             0   \n",
      "5       9          4 2015-09-17  2015      9   1.0      1             0   \n",
      "\n",
      "    SchoolHoliday  StoreType  Assortment  CompetitionDistance  \\\n",
      "Id                                                              \n",
      "1               0        0.0         0.0               1270.0   \n",
      "2               0        1.0         0.0              14130.0   \n",
      "3               0        1.0         1.0              24000.0   \n",
      "4               0        1.0         0.0               7520.0   \n",
      "5               0        1.0         1.0               2030.0   \n",
      "\n",
      "    CompetitionOpenSinceMonth  CompetitionOpenSinceYear  Promo2  \\\n",
      "Id                                                                \n",
      "1                         3.0                       7.0     0.0   \n",
      "2                         0.0                       9.0     1.0   \n",
      "3                         8.0                       2.0     0.0   \n",
      "4                         2.0                       1.0     0.0   \n",
      "5                         4.0                      15.0     0.0   \n",
      "\n",
      "    Promo2SinceWeek  Promo2SinceYear  PromoInterval  \n",
      "Id                                                   \n",
      "1               0.0              0.0            0.0  \n",
      "2              36.0              4.0            1.0  \n",
      "3               0.0              0.0            0.0  \n",
      "4               0.0              0.0            0.0  \n",
      "5               0.0              0.0            0.0  \n"
     ]
    }
   ],
   "source": [
    "print(test_store.head())"
   ]
  },
  {
   "cell_type": "code",
   "execution_count": 63,
   "metadata": {},
   "outputs": [
    {
     "data": {
      "text/plain": [
       "(41088, 18)"
      ]
     },
     "execution_count": 63,
     "metadata": {},
     "output_type": "execute_result"
    }
   ],
   "source": [
    "test_store.shape"
   ]
  },
  {
   "cell_type": "code",
   "execution_count": 64,
   "metadata": {},
   "outputs": [
    {
     "data": {
      "text/plain": [
       "Store                        0\n",
       "DayOfWeek                    0\n",
       "Date                         0\n",
       "Year                         0\n",
       "Month                        0\n",
       "Open                         0\n",
       "Promo                        0\n",
       "StateHoliday                 0\n",
       "SchoolHoliday                0\n",
       "StoreType                    0\n",
       "Assortment                   0\n",
       "CompetitionDistance          0\n",
       "CompetitionOpenSinceMonth    0\n",
       "CompetitionOpenSinceYear     0\n",
       "Promo2                       0\n",
       "Promo2SinceWeek              0\n",
       "Promo2SinceYear              0\n",
       "PromoInterval                0\n",
       "dtype: int64"
      ]
     },
     "execution_count": 64,
     "metadata": {},
     "output_type": "execute_result"
    }
   ],
   "source": [
    "test_store.isnull().sum()"
   ]
  },
  {
   "cell_type": "code",
   "execution_count": 65,
   "metadata": {},
   "outputs": [
    {
     "data": {
      "image/png": "[encoded data removed]",
      "text/plain": [
       "<Figure size 432x288 with 1 Axes>"
      ]
     },
     "metadata": {
      "needs_background": "light"
     },
     "output_type": "display_data"
    }
   ],
   "source": [
    "train_store.boxplot(column='Sales', by='Year')\n",
    "plt.show()"
   ]
  },
  {
   "cell_type": "code",
   "execution_count": 66,
   "metadata": {},
   "outputs": [
    {
     "data": {
      "image/png": "[encoded data removed]",
      "text/plain": [
       "<Figure size 432x288 with 1 Axes>"
      ]
     },
     "metadata": {
      "needs_background": "light"
     },
     "output_type": "display_data"
    }
   ],
   "source": [
    "train_store.boxplot(column='Sales', by='Month')\n",
    "plt.show()"
   ]
  },
  {
   "cell_type": "code",
   "execution_count": 67,
   "metadata": {},
   "outputs": [
    {
     "data": {
      "image/png": "[encoded data removed]",
      "text/plain": [
       "<Figure size 432x288 with 1 Axes>"
      ]
     },
     "metadata": {
      "needs_background": "light"
     },
     "output_type": "display_data"
    }
   ],
   "source": [
    "train_store.boxplot(column='Sales', by='StateHoliday')\n",
    "plt.show()"
   ]
  },
  {
   "cell_type": "code",
   "execution_count": 68,
   "metadata": {},
   "outputs": [
    {
     "data": {
      "image/png": "[encoded data removed]",
      "text/plain": [
       "<Figure size 432x288 with 1 Axes>"
      ]
     },
     "metadata": {
      "needs_background": "light"
     },
     "output_type": "display_data"
    }
   ],
   "source": [
    "train_store.boxplot(column='Sales', by='SchoolHoliday')\n",
    "plt.show()"
   ]
  },
  {
   "cell_type": "code",
   "execution_count": 69,
   "metadata": {},
   "outputs": [
    {
     "data": {
      "image/png": "[encoded data removed]",
      "text/plain": [
       "<Figure size 432x288 with 1 Axes>"
      ]
     },
     "metadata": {
      "needs_background": "light"
     },
     "output_type": "display_data"
    }
   ],
   "source": [
    "train_store.boxplot(column='Sales', by='StoreType')\n",
    "plt.show()"
   ]
  },
  {
   "cell_type": "code",
   "execution_count": 70,
   "metadata": {},
   "outputs": [
    {
     "data": {
      "image/png": "[encoded data removed]",
      "text/plain": [
       "<Figure size 432x288 with 1 Axes>"
      ]
     },
     "metadata": {
      "needs_background": "light"
     },
     "output_type": "display_data"
    }
   ],
   "source": [
    "train_store.boxplot(column='Sales', by='DayOfWeek')\n",
    "plt.show()"
   ]
  },
  {
   "cell_type": "code",
   "execution_count": 71,
   "metadata": {},
   "outputs": [
    {
     "data": {
      "image/png": "[encoded data removed]",
      "text/plain": [
       "<Figure size 432x288 with 1 Axes>"
      ]
     },
     "metadata": {
      "needs_background": "light"
     },
     "output_type": "display_data"
    }
   ],
   "source": [
    "train_store.boxplot(column='Sales', by='Promo2')\n",
    "plt.show()"
   ]
  },
  {
   "cell_type": "code",
   "execution_count": 72,
   "metadata": {},
   "outputs": [
    {
     "data": {
      "image/png": "[encoded data removed]",
      "text/plain": [
       "<Figure size 432x288 with 1 Axes>"
      ]
     },
     "metadata": {
      "needs_background": "light"
     },
     "output_type": "display_data"
    }
   ],
   "source": [
    "train_store.loc[train_store['Promo2'] != 0].boxplot(column='Sales', by='Promo2SinceYear')\n",
    "plt.show()"
   ]
  },
  {
   "cell_type": "code",
   "execution_count": 73,
   "metadata": {},
   "outputs": [
    {
     "data": {
      "image/png": "[encoded data removed]",
      "text/plain": [
       "<Figure size 432x288 with 1 Axes>"
      ]
     },
     "metadata": {
      "needs_background": "light"
     },
     "output_type": "display_data"
    }
   ],
   "source": [
    "train_store.boxplot(column='Customers', by='Month')\n",
    "plt.show()"
   ]
  },
  {
   "cell_type": "code",
   "execution_count": 74,
   "metadata": {},
   "outputs": [
    {
     "data": {
      "image/png": "[encoded data removed]",
      "text/plain": [
       "<Figure size 432x288 with 1 Axes>"
      ]
     },
     "metadata": {
      "needs_background": "light"
     },
     "output_type": "display_data"
    }
   ],
   "source": [
    "train_store.loc[train_store['Promo2'] != 0].boxplot(column='Sales', by='PromoInterval')\n",
    "plt.show()"
   ]
  },
  {
   "cell_type": "code",
   "execution_count": 75,
   "metadata": {},
   "outputs": [
    {
     "data": {
      "image/png": "[encoded data removed]",
      "text/plain": [
       "<Figure size 432x288 with 4 Axes>"
      ]
     },
     "metadata": {
      "needs_background": "light"
     },
     "output_type": "display_data"
    }
   ],
   "source": [
    "train_store.hist(column='Sales', by='Year', bins=30)\n",
    "plt.show()"
   ]
  },
  {
   "cell_type": "code",
   "execution_count": 76,
   "metadata": {},
   "outputs": [
    {
     "data": {
      "image/png": "[encoded data removed]",
      "text/plain": [
       "<Figure size 432x288 with 12 Axes>"
      ]
     },
     "metadata": {
      "needs_background": "light"
     },
     "output_type": "display_data"
    }
   ],
   "source": [
    "train_store.hist(column='Sales', by='Month', bins=30)\n",
    "plt.show()"
   ]
  },
  {
   "cell_type": "code",
   "execution_count": 77,
   "metadata": {},
   "outputs": [
    {
     "data": {
      "image/png": "[encoded data removed]",
      "text/plain": [
       "<Figure size 432x288 with 1 Axes>"
      ]
     },
     "metadata": {
      "needs_background": "light"
     },
     "output_type": "display_data"
    }
   ],
   "source": [
    "train_store.hist(column='CompetitionDistance', bins=30)\n",
    "plt.show()"
   ]
  },
  {
   "cell_type": "markdown",
   "metadata": {},
   "source": [
    "#MODELING"
   ]
  },
  {
   "cell_type": "code",
   "execution_count": 78,
   "metadata": {},
   "outputs": [
    {
     "data": {
      "text/plain": [
       "array(['Store', 'DayOfWeek', 'Date', 'Year', 'Month', 'Customers', 'Open',\n",
       "       'Promo', 'StateHoliday', 'SchoolHoliday', 'Sales', 'StoreType',\n",
       "       'Assortment', 'CompetitionDistance', 'CompetitionOpenSinceMonth',\n",
       "       'CompetitionOpenSinceYear', 'Promo2', 'Promo2SinceWeek',\n",
       "       'Promo2SinceYear', 'PromoInterval'], dtype=object)"
      ]
     },
     "execution_count": 78,
     "metadata": {},
     "output_type": "execute_result"
    }
   ],
   "source": [
    "train_store.columns.values"
   ]
  },
  {
   "cell_type": "code",
   "execution_count": 79,
   "metadata": {},
   "outputs": [
    {
     "name": "stdout",
     "output_type": "stream",
     "text": [
      "   Store  DayOfWeek  Year  Month  Open  Promo  StateHoliday  SchoolHoliday  \\\n",
      "0      1          5     0      7     1      1             0              0   \n",
      "1      2          5     0      7     1      1             0              0   \n",
      "2      3          5     0      7     1      1             0              0   \n",
      "3      4          5     0      7     1      1             0              0   \n",
      "4      5          5     0      7     1      1             0              0   \n",
      "\n",
      "   Sales  StoreType  Assortment  CompetitionDistance  \\\n",
      "0   5263        0.0         0.0               1270.0   \n",
      "1   6064        1.0         0.0                570.0   \n",
      "2   8314        1.0         0.0              14130.0   \n",
      "3  13995        0.0         1.0                620.0   \n",
      "4   4822        1.0         0.0              29910.0   \n",
      "\n",
      "   CompetitionOpenSinceMonth  CompetitionOpenSinceYear  Promo2  \\\n",
      "0                        3.0                       7.0     0.0   \n",
      "1                        1.0                       8.0     1.0   \n",
      "2                        0.0                       9.0     1.0   \n",
      "3                        3.0                       6.0     0.0   \n",
      "4                        8.0                       0.0     0.0   \n",
      "\n",
      "   Promo2SinceWeek  Promo2SinceYear  PromoInterval  \n",
      "0              0.0              0.0            0.0  \n",
      "1             37.0              5.0            1.0  \n",
      "2             36.0              4.0            1.0  \n",
      "3              0.0              0.0            0.0  \n",
      "4              0.0              0.0            0.0  \n"
     ]
    }
   ],
   "source": [
    "train_model = train_store.drop(['Customers', 'Date'], axis=1)\n",
    "train_model['Year'] = train_model['Year'].max() - train_model['Year']\n",
    "print(train_model.head())"
   ]
  },
  {
   "cell_type": "code",
   "execution_count": 80,
   "metadata": {},
   "outputs": [],
   "source": [
    "test_model = test_store.drop(['Date'], axis=1)\n",
    "test_model['Year'] = test_model['Year'].max() - test_model['Year']"
   ]
  },
  {
   "cell_type": "code",
   "execution_count": 81,
   "metadata": {},
   "outputs": [
    {
     "name": "stdout",
     "output_type": "stream",
     "text": [
      "    Store  DayOfWeek  Year  Month  Open  Promo  StateHoliday  SchoolHoliday  \\\n",
      "Id                                                                            \n",
      "1       1          4     0      9   1.0      1             0              0   \n",
      "2       3          4     0      9   1.0      1             0              0   \n",
      "3       7          4     0      9   1.0      1             0              0   \n",
      "4       8          4     0      9   1.0      1             0              0   \n",
      "5       9          4     0      9   1.0      1             0              0   \n",
      "\n",
      "    StoreType  Assortment  CompetitionDistance  CompetitionOpenSinceMonth  \\\n",
      "Id                                                                          \n",
      "1         0.0         0.0               1270.0                        3.0   \n",
      "2         1.0         0.0              14130.0                        0.0   \n",
      "3         1.0         1.0              24000.0                        8.0   \n",
      "4         1.0         0.0               7520.0                        2.0   \n",
      "5         1.0         1.0               2030.0                        4.0   \n",
      "\n",
      "    CompetitionOpenSinceYear  Promo2  Promo2SinceWeek  Promo2SinceYear  \\\n",
      "Id                                                                       \n",
      "1                        7.0     0.0              0.0              0.0   \n",
      "2                        9.0     1.0             36.0              4.0   \n",
      "3                        2.0     0.0              0.0              0.0   \n",
      "4                        1.0     0.0              0.0              0.0   \n",
      "5                       15.0     0.0              0.0              0.0   \n",
      "\n",
      "    PromoInterval  \n",
      "Id                 \n",
      "1             0.0  \n",
      "2             1.0  \n",
      "3             0.0  \n",
      "4             0.0  \n",
      "5             0.0  \n"
     ]
    }
   ],
   "source": [
    "print(test_model.head())"
   ]
  },
  {
   "cell_type": "code",
   "execution_count": 82,
   "metadata": {},
   "outputs": [
    {
     "data": {
      "text/html": [
       "<div>\n",
       "<style scoped>\n",
       "    .dataframe tbody tr th:only-of-type {\n",
       "        vertical-align: middle;\n",
       "    }\n",
       "\n",
       "    .dataframe tbody tr th {\n",
       "        vertical-align: top;\n",
       "    }\n",
       "\n",
       "    .dataframe thead th {\n",
       "        text-align: right;\n",
       "    }\n",
       "</style>\n",
       "<table border=\"1\" class=\"dataframe\">\n",
       "  <thead>\n",
       "    <tr style=\"text-align: right;\">\n",
       "      <th></th>\n",
       "      <th>Store</th>\n",
       "      <th>DayOfWeek</th>\n",
       "      <th>Year</th>\n",
       "      <th>Month</th>\n",
       "      <th>Promo</th>\n",
       "      <th>StateHoliday</th>\n",
       "      <th>SchoolHoliday</th>\n",
       "      <th>StoreType</th>\n",
       "      <th>Assortment</th>\n",
       "      <th>CompetitionDistance</th>\n",
       "      <th>CompetitionOpenSinceMonth</th>\n",
       "      <th>CompetitionOpenSinceYear</th>\n",
       "      <th>Promo2</th>\n",
       "      <th>Promo2SinceWeek</th>\n",
       "      <th>Promo2SinceYear</th>\n",
       "      <th>PromoInterval</th>\n",
       "    </tr>\n",
       "    <tr>\n",
       "      <th>Id</th>\n",
       "      <th></th>\n",
       "      <th></th>\n",
       "      <th></th>\n",
       "      <th></th>\n",
       "      <th></th>\n",
       "      <th></th>\n",
       "      <th></th>\n",
       "      <th></th>\n",
       "      <th></th>\n",
       "      <th></th>\n",
       "      <th></th>\n",
       "      <th></th>\n",
       "      <th></th>\n",
       "      <th></th>\n",
       "      <th></th>\n",
       "      <th></th>\n",
       "    </tr>\n",
       "  </thead>\n",
       "  <tbody>\n",
       "    <tr>\n",
       "      <th>1</th>\n",
       "      <td>1</td>\n",
       "      <td>4</td>\n",
       "      <td>0</td>\n",
       "      <td>9</td>\n",
       "      <td>1</td>\n",
       "      <td>0</td>\n",
       "      <td>0</td>\n",
       "      <td>0.0</td>\n",
       "      <td>0.0</td>\n",
       "      <td>1270.0</td>\n",
       "      <td>3.0</td>\n",
       "      <td>7.0</td>\n",
       "      <td>0.0</td>\n",
       "      <td>0.0</td>\n",
       "      <td>0.0</td>\n",
       "      <td>0.0</td>\n",
       "    </tr>\n",
       "    <tr>\n",
       "      <th>2</th>\n",
       "      <td>3</td>\n",
       "      <td>4</td>\n",
       "      <td>0</td>\n",
       "      <td>9</td>\n",
       "      <td>1</td>\n",
       "      <td>0</td>\n",
       "      <td>0</td>\n",
       "      <td>1.0</td>\n",
       "      <td>0.0</td>\n",
       "      <td>14130.0</td>\n",
       "      <td>0.0</td>\n",
       "      <td>9.0</td>\n",
       "      <td>1.0</td>\n",
       "      <td>36.0</td>\n",
       "      <td>4.0</td>\n",
       "      <td>1.0</td>\n",
       "    </tr>\n",
       "    <tr>\n",
       "      <th>3</th>\n",
       "      <td>7</td>\n",
       "      <td>4</td>\n",
       "      <td>0</td>\n",
       "      <td>9</td>\n",
       "      <td>1</td>\n",
       "      <td>0</td>\n",
       "      <td>0</td>\n",
       "      <td>1.0</td>\n",
       "      <td>1.0</td>\n",
       "      <td>24000.0</td>\n",
       "      <td>8.0</td>\n",
       "      <td>2.0</td>\n",
       "      <td>0.0</td>\n",
       "      <td>0.0</td>\n",
       "      <td>0.0</td>\n",
       "      <td>0.0</td>\n",
       "    </tr>\n",
       "    <tr>\n",
       "      <th>4</th>\n",
       "      <td>8</td>\n",
       "      <td>4</td>\n",
       "      <td>0</td>\n",
       "      <td>9</td>\n",
       "      <td>1</td>\n",
       "      <td>0</td>\n",
       "      <td>0</td>\n",
       "      <td>1.0</td>\n",
       "      <td>0.0</td>\n",
       "      <td>7520.0</td>\n",
       "      <td>2.0</td>\n",
       "      <td>1.0</td>\n",
       "      <td>0.0</td>\n",
       "      <td>0.0</td>\n",
       "      <td>0.0</td>\n",
       "      <td>0.0</td>\n",
       "    </tr>\n",
       "    <tr>\n",
       "      <th>5</th>\n",
       "      <td>9</td>\n",
       "      <td>4</td>\n",
       "      <td>0</td>\n",
       "      <td>9</td>\n",
       "      <td>1</td>\n",
       "      <td>0</td>\n",
       "      <td>0</td>\n",
       "      <td>1.0</td>\n",
       "      <td>1.0</td>\n",
       "      <td>2030.0</td>\n",
       "      <td>4.0</td>\n",
       "      <td>15.0</td>\n",
       "      <td>0.0</td>\n",
       "      <td>0.0</td>\n",
       "      <td>0.0</td>\n",
       "      <td>0.0</td>\n",
       "    </tr>\n",
       "  </tbody>\n",
       "</table>\n",
       "</div>"
      ],
      "text/plain": [
       "    Store  DayOfWeek  Year  Month  Promo  StateHoliday  SchoolHoliday  \\\n",
       "Id                                                                      \n",
       "1       1          4     0      9      1             0              0   \n",
       "2       3          4     0      9      1             0              0   \n",
       "3       7          4     0      9      1             0              0   \n",
       "4       8          4     0      9      1             0              0   \n",
       "5       9          4     0      9      1             0              0   \n",
       "\n",
       "    StoreType  Assortment  CompetitionDistance  CompetitionOpenSinceMonth  \\\n",
       "Id                                                                          \n",
       "1         0.0         0.0               1270.0                        3.0   \n",
       "2         1.0         0.0              14130.0                        0.0   \n",
       "3         1.0         1.0              24000.0                        8.0   \n",
       "4         1.0         0.0               7520.0                        2.0   \n",
       "5         1.0         1.0               2030.0                        4.0   \n",
       "\n",
       "    CompetitionOpenSinceYear  Promo2  Promo2SinceWeek  Promo2SinceYear  \\\n",
       "Id                                                                       \n",
       "1                        7.0     0.0              0.0              0.0   \n",
       "2                        9.0     1.0             36.0              4.0   \n",
       "3                        2.0     0.0              0.0              0.0   \n",
       "4                        1.0     0.0              0.0              0.0   \n",
       "5                       15.0     0.0              0.0              0.0   \n",
       "\n",
       "    PromoInterval  \n",
       "Id                 \n",
       "1             0.0  \n",
       "2             1.0  \n",
       "3             0.0  \n",
       "4             0.0  \n",
       "5             0.0  "
      ]
     },
     "execution_count": 82,
     "metadata": {},
     "output_type": "execute_result"
    }
   ],
   "source": [
    "test_model_open = test_model.loc[test_model['Open'] == 1]\n",
    "test_model_open = test_model_open.drop('Open', axis=1)\n",
    "\n",
    "test_model_close = test_model.loc[test_model['Open'] == 0]\n",
    "\n",
    "test_model_open.head()"
   ]
  },
  {
   "cell_type": "code",
   "execution_count": 83,
   "metadata": {},
   "outputs": [
    {
     "data": {
      "text/plain": [
       "Store                        0\n",
       "DayOfWeek                    0\n",
       "Year                         0\n",
       "Month                        0\n",
       "Promo                        0\n",
       "StateHoliday                 0\n",
       "SchoolHoliday                0\n",
       "StoreType                    0\n",
       "Assortment                   0\n",
       "CompetitionDistance          0\n",
       "CompetitionOpenSinceMonth    0\n",
       "CompetitionOpenSinceYear     0\n",
       "Promo2                       0\n",
       "Promo2SinceWeek              0\n",
       "Promo2SinceYear              0\n",
       "PromoInterval                0\n",
       "dtype: int64"
      ]
     },
     "execution_count": 83,
     "metadata": {},
     "output_type": "execute_result"
    }
   ],
   "source": [
    "test_model_open.isnull().sum()"
   ]
  },
  {
   "cell_type": "code",
   "execution_count": 84,
   "metadata": {},
   "outputs": [
    {
     "data": {
      "text/plain": [
       "(1006419, 18)"
      ]
     },
     "execution_count": 84,
     "metadata": {},
     "output_type": "execute_result"
    }
   ],
   "source": [
    "train_model.shape"
   ]
  },
  {
   "cell_type": "code",
   "execution_count": 85,
   "metadata": {},
   "outputs": [
    {
     "data": {
      "text/plain": [
       "(41088, 17)"
      ]
     },
     "execution_count": 85,
     "metadata": {},
     "output_type": "execute_result"
    }
   ],
   "source": [
    "test_model.shape"
   ]
  },
  {
   "cell_type": "code",
   "execution_count": 86,
   "metadata": {},
   "outputs": [],
   "source": [
    "SalesDF = train_model['Sales']\n",
    "train_model = train_model.drop(['Sales'], axis=1)\n",
    "train_model['Sales'] = SalesDF"
   ]
  },
  {
   "cell_type": "code",
   "execution_count": 87,
   "metadata": {},
   "outputs": [
    {
     "data": {
      "text/html": [
       "<div>\n",
       "<style scoped>\n",
       "    .dataframe tbody tr th:only-of-type {\n",
       "        vertical-align: middle;\n",
       "    }\n",
       "\n",
       "    .dataframe tbody tr th {\n",
       "        vertical-align: top;\n",
       "    }\n",
       "\n",
       "    .dataframe thead th {\n",
       "        text-align: right;\n",
       "    }\n",
       "</style>\n",
       "<table border=\"1\" class=\"dataframe\">\n",
       "  <thead>\n",
       "    <tr style=\"text-align: right;\">\n",
       "      <th></th>\n",
       "      <th>Store</th>\n",
       "      <th>DayOfWeek</th>\n",
       "      <th>Year</th>\n",
       "      <th>Month</th>\n",
       "      <th>Open</th>\n",
       "      <th>Promo</th>\n",
       "      <th>StateHoliday</th>\n",
       "      <th>SchoolHoliday</th>\n",
       "      <th>StoreType</th>\n",
       "      <th>Assortment</th>\n",
       "      <th>CompetitionDistance</th>\n",
       "      <th>CompetitionOpenSinceMonth</th>\n",
       "      <th>CompetitionOpenSinceYear</th>\n",
       "      <th>Promo2</th>\n",
       "      <th>Promo2SinceWeek</th>\n",
       "      <th>Promo2SinceYear</th>\n",
       "      <th>PromoInterval</th>\n",
       "      <th>Sales</th>\n",
       "    </tr>\n",
       "  </thead>\n",
       "  <tbody>\n",
       "    <tr>\n",
       "      <th>0</th>\n",
       "      <td>1</td>\n",
       "      <td>5</td>\n",
       "      <td>0</td>\n",
       "      <td>7</td>\n",
       "      <td>1</td>\n",
       "      <td>1</td>\n",
       "      <td>0</td>\n",
       "      <td>0</td>\n",
       "      <td>0.0</td>\n",
       "      <td>0.0</td>\n",
       "      <td>1270.0</td>\n",
       "      <td>3.0</td>\n",
       "      <td>7.0</td>\n",
       "      <td>0.0</td>\n",
       "      <td>0.0</td>\n",
       "      <td>0.0</td>\n",
       "      <td>0.0</td>\n",
       "      <td>5263</td>\n",
       "    </tr>\n",
       "    <tr>\n",
       "      <th>1</th>\n",
       "      <td>2</td>\n",
       "      <td>5</td>\n",
       "      <td>0</td>\n",
       "      <td>7</td>\n",
       "      <td>1</td>\n",
       "      <td>1</td>\n",
       "      <td>0</td>\n",
       "      <td>0</td>\n",
       "      <td>1.0</td>\n",
       "      <td>0.0</td>\n",
       "      <td>570.0</td>\n",
       "      <td>1.0</td>\n",
       "      <td>8.0</td>\n",
       "      <td>1.0</td>\n",
       "      <td>37.0</td>\n",
       "      <td>5.0</td>\n",
       "      <td>1.0</td>\n",
       "      <td>6064</td>\n",
       "    </tr>\n",
       "    <tr>\n",
       "      <th>2</th>\n",
       "      <td>3</td>\n",
       "      <td>5</td>\n",
       "      <td>0</td>\n",
       "      <td>7</td>\n",
       "      <td>1</td>\n",
       "      <td>1</td>\n",
       "      <td>0</td>\n",
       "      <td>0</td>\n",
       "      <td>1.0</td>\n",
       "      <td>0.0</td>\n",
       "      <td>14130.0</td>\n",
       "      <td>0.0</td>\n",
       "      <td>9.0</td>\n",
       "      <td>1.0</td>\n",
       "      <td>36.0</td>\n",
       "      <td>4.0</td>\n",
       "      <td>1.0</td>\n",
       "      <td>8314</td>\n",
       "    </tr>\n",
       "    <tr>\n",
       "      <th>3</th>\n",
       "      <td>4</td>\n",
       "      <td>5</td>\n",
       "      <td>0</td>\n",
       "      <td>7</td>\n",
       "      <td>1</td>\n",
       "      <td>1</td>\n",
       "      <td>0</td>\n",
       "      <td>0</td>\n",
       "      <td>0.0</td>\n",
       "      <td>1.0</td>\n",
       "      <td>620.0</td>\n",
       "      <td>3.0</td>\n",
       "      <td>6.0</td>\n",
       "      <td>0.0</td>\n",
       "      <td>0.0</td>\n",
       "      <td>0.0</td>\n",
       "      <td>0.0</td>\n",
       "      <td>13995</td>\n",
       "    </tr>\n",
       "    <tr>\n",
       "      <th>4</th>\n",
       "      <td>5</td>\n",
       "      <td>5</td>\n",
       "      <td>0</td>\n",
       "      <td>7</td>\n",
       "      <td>1</td>\n",
       "      <td>1</td>\n",
       "      <td>0</td>\n",
       "      <td>0</td>\n",
       "      <td>1.0</td>\n",
       "      <td>0.0</td>\n",
       "      <td>29910.0</td>\n",
       "      <td>8.0</td>\n",
       "      <td>0.0</td>\n",
       "      <td>0.0</td>\n",
       "      <td>0.0</td>\n",
       "      <td>0.0</td>\n",
       "      <td>0.0</td>\n",
       "      <td>4822</td>\n",
       "    </tr>\n",
       "  </tbody>\n",
       "</table>\n",
       "</div>"
      ],
      "text/plain": [
       "   Store  DayOfWeek  Year  Month  Open  Promo  StateHoliday  SchoolHoliday  \\\n",
       "0      1          5     0      7     1      1             0              0   \n",
       "1      2          5     0      7     1      1             0              0   \n",
       "2      3          5     0      7     1      1             0              0   \n",
       "3      4          5     0      7     1      1             0              0   \n",
       "4      5          5     0      7     1      1             0              0   \n",
       "\n",
       "   StoreType  Assortment  CompetitionDistance  CompetitionOpenSinceMonth  \\\n",
       "0        0.0         0.0               1270.0                        3.0   \n",
       "1        1.0         0.0                570.0                        1.0   \n",
       "2        1.0         0.0              14130.0                        0.0   \n",
       "3        0.0         1.0                620.0                        3.0   \n",
       "4        1.0         0.0              29910.0                        8.0   \n",
       "\n",
       "   CompetitionOpenSinceYear  Promo2  Promo2SinceWeek  Promo2SinceYear  \\\n",
       "0                       7.0     0.0              0.0              0.0   \n",
       "1                       8.0     1.0             37.0              5.0   \n",
       "2                       9.0     1.0             36.0              4.0   \n",
       "3                       6.0     0.0              0.0              0.0   \n",
       "4                       0.0     0.0              0.0              0.0   \n",
       "\n",
       "   PromoInterval  Sales  \n",
       "0            0.0   5263  \n",
       "1            1.0   6064  \n",
       "2            1.0   8314  \n",
       "3            0.0  13995  \n",
       "4            0.0   4822  "
      ]
     },
     "execution_count": 87,
     "metadata": {},
     "output_type": "execute_result"
    }
   ],
   "source": [
    "train_model.head()"
   ]
  },
  {
   "cell_type": "code",
   "execution_count": 88,
   "metadata": {},
   "outputs": [],
   "source": [
    "summary = train_model.describe()\n",
    "train_normalized = train_model.copy()\n",
    "ncols = len(train_normalized.columns)\n",
    "\n",
    "for i in range(ncols):\n",
    "    mean = summary.iloc[1, i]\n",
    "    sd = summary.iloc[2, i]\n",
    "    train_normalized.iloc[:,i:(i + 1)] = \\\n",
    "        (train_normalized.iloc[:,i:(i + 1)] - mean) / sd"
   ]
  },
  {
   "cell_type": "code",
   "execution_count": 89,
   "metadata": {},
   "outputs": [],
   "source": [
    "sales_normalized = train_normalized['Sales']\n",
    "train_normalized = train_normalized.drop(['Sales'], axis=1)\n",
    "train_normalized['Sales'] = sales_normalized"
   ]
  },
  {
   "cell_type": "code",
   "execution_count": 90,
   "metadata": {},
   "outputs": [
    {
     "data": {
      "text/html": [
       "<div>\n",
       "<style scoped>\n",
       "    .dataframe tbody tr th:only-of-type {\n",
       "        vertical-align: middle;\n",
       "    }\n",
       "\n",
       "    .dataframe tbody tr th {\n",
       "        vertical-align: top;\n",
       "    }\n",
       "\n",
       "    .dataframe thead th {\n",
       "        text-align: right;\n",
       "    }\n",
       "</style>\n",
       "<table border=\"1\" class=\"dataframe\">\n",
       "  <thead>\n",
       "    <tr style=\"text-align: right;\">\n",
       "      <th></th>\n",
       "      <th>Store</th>\n",
       "      <th>DayOfWeek</th>\n",
       "      <th>Year</th>\n",
       "      <th>Month</th>\n",
       "      <th>Open</th>\n",
       "      <th>Promo</th>\n",
       "      <th>StateHoliday</th>\n",
       "      <th>SchoolHoliday</th>\n",
       "      <th>StoreType</th>\n",
       "      <th>Assortment</th>\n",
       "      <th>CompetitionDistance</th>\n",
       "      <th>CompetitionOpenSinceMonth</th>\n",
       "      <th>CompetitionOpenSinceYear</th>\n",
       "      <th>Promo2</th>\n",
       "      <th>Promo2SinceWeek</th>\n",
       "      <th>Promo2SinceYear</th>\n",
       "      <th>PromoInterval</th>\n",
       "      <th>Sales</th>\n",
       "    </tr>\n",
       "  </thead>\n",
       "  <tbody>\n",
       "    <tr>\n",
       "      <th>0</th>\n",
       "      <td>-1.731639</td>\n",
       "      <td>0.497609</td>\n",
       "      <td>-1.501199</td>\n",
       "      <td>0.351249</td>\n",
       "      <td>0.438396</td>\n",
       "      <td>1.27117</td>\n",
       "      <td>-0.143333</td>\n",
       "      <td>-2.207088</td>\n",
       "      <td>-1.770361</td>\n",
       "      <td>-0.930468</td>\n",
       "      <td>-0.539891</td>\n",
       "      <td>-0.669720</td>\n",
       "      <td>0.138083</td>\n",
       "      <td>-1.001134</td>\n",
       "      <td>-0.802376</td>\n",
       "      <td>-0.810676</td>\n",
       "      <td>-0.824297</td>\n",
       "      <td>-0.149270</td>\n",
       "    </tr>\n",
       "    <tr>\n",
       "      <th>1</th>\n",
       "      <td>-1.728533</td>\n",
       "      <td>0.497609</td>\n",
       "      <td>-1.501199</td>\n",
       "      <td>0.351249</td>\n",
       "      <td>0.438396</td>\n",
       "      <td>1.27117</td>\n",
       "      <td>-0.143333</td>\n",
       "      <td>-2.207088</td>\n",
       "      <td>-0.300229</td>\n",
       "      <td>-0.930468</td>\n",
       "      <td>-0.630738</td>\n",
       "      <td>-1.423676</td>\n",
       "      <td>0.340127</td>\n",
       "      <td>0.998866</td>\n",
       "      <td>1.416358</td>\n",
       "      <td>1.683018</td>\n",
       "      <td>0.194891</td>\n",
       "      <td>0.060270</td>\n",
       "    </tr>\n",
       "    <tr>\n",
       "      <th>2</th>\n",
       "      <td>-1.725426</td>\n",
       "      <td>0.497609</td>\n",
       "      <td>-1.501199</td>\n",
       "      <td>0.351249</td>\n",
       "      <td>0.438396</td>\n",
       "      <td>1.27117</td>\n",
       "      <td>-0.143333</td>\n",
       "      <td>-2.207088</td>\n",
       "      <td>-0.300229</td>\n",
       "      <td>-0.930468</td>\n",
       "      <td>1.129094</td>\n",
       "      <td>-1.800655</td>\n",
       "      <td>0.542171</td>\n",
       "      <td>0.998866</td>\n",
       "      <td>1.356392</td>\n",
       "      <td>1.184279</td>\n",
       "      <td>0.194891</td>\n",
       "      <td>0.648863</td>\n",
       "    </tr>\n",
       "    <tr>\n",
       "      <th>3</th>\n",
       "      <td>-1.722320</td>\n",
       "      <td>0.497609</td>\n",
       "      <td>-1.501199</td>\n",
       "      <td>0.351249</td>\n",
       "      <td>0.438396</td>\n",
       "      <td>1.27117</td>\n",
       "      <td>-0.143333</td>\n",
       "      <td>-2.207088</td>\n",
       "      <td>-1.770361</td>\n",
       "      <td>1.008815</td>\n",
       "      <td>-0.624249</td>\n",
       "      <td>-0.669720</td>\n",
       "      <td>-0.063961</td>\n",
       "      <td>-1.001134</td>\n",
       "      <td>-0.802376</td>\n",
       "      <td>-0.810676</td>\n",
       "      <td>-0.824297</td>\n",
       "      <td>2.134997</td>\n",
       "    </tr>\n",
       "    <tr>\n",
       "      <th>4</th>\n",
       "      <td>-1.719213</td>\n",
       "      <td>0.497609</td>\n",
       "      <td>-1.501199</td>\n",
       "      <td>0.351249</td>\n",
       "      <td>0.438396</td>\n",
       "      <td>1.27117</td>\n",
       "      <td>-0.143333</td>\n",
       "      <td>-2.207088</td>\n",
       "      <td>-0.300229</td>\n",
       "      <td>-0.930468</td>\n",
       "      <td>3.177039</td>\n",
       "      <td>1.215170</td>\n",
       "      <td>-1.276224</td>\n",
       "      <td>-1.001134</td>\n",
       "      <td>-0.802376</td>\n",
       "      <td>-0.810676</td>\n",
       "      <td>-0.824297</td>\n",
       "      <td>-0.264634</td>\n",
       "    </tr>\n",
       "  </tbody>\n",
       "</table>\n",
       "</div>"
      ],
      "text/plain": [
       "      Store  DayOfWeek      Year     Month      Open    Promo  StateHoliday  \\\n",
       "0 -1.731639   0.497609 -1.501199  0.351249  0.438396  1.27117     -0.143333   \n",
       "1 -1.728533   0.497609 -1.501199  0.351249  0.438396  1.27117     -0.143333   \n",
       "2 -1.725426   0.497609 -1.501199  0.351249  0.438396  1.27117     -0.143333   \n",
       "3 -1.722320   0.497609 -1.501199  0.351249  0.438396  1.27117     -0.143333   \n",
       "4 -1.719213   0.497609 -1.501199  0.351249  0.438396  1.27117     -0.143333   \n",
       "\n",
       "   SchoolHoliday  StoreType  Assortment  CompetitionDistance  \\\n",
       "0      -2.207088  -1.770361   -0.930468            -0.539891   \n",
       "1      -2.207088  -0.300229   -0.930468            -0.630738   \n",
       "2      -2.207088  -0.300229   -0.930468             1.129094   \n",
       "3      -2.207088  -1.770361    1.008815            -0.624249   \n",
       "4      -2.207088  -0.300229   -0.930468             3.177039   \n",
       "\n",
       "   CompetitionOpenSinceMonth  CompetitionOpenSinceYear    Promo2  \\\n",
       "0                  -0.669720                  0.138083 -1.001134   \n",
       "1                  -1.423676                  0.340127  0.998866   \n",
       "2                  -1.800655                  0.542171  0.998866   \n",
       "3                  -0.669720                 -0.063961 -1.001134   \n",
       "4                   1.215170                 -1.276224 -1.001134   \n",
       "\n",
       "   Promo2SinceWeek  Promo2SinceYear  PromoInterval     Sales  \n",
       "0        -0.802376        -0.810676      -0.824297 -0.149270  \n",
       "1         1.416358         1.683018       0.194891  0.060270  \n",
       "2         1.356392         1.184279       0.194891  0.648863  \n",
       "3        -0.802376        -0.810676      -0.824297  2.134997  \n",
       "4        -0.802376        -0.810676      -0.824297 -0.264634  "
      ]
     },
     "execution_count": 90,
     "metadata": {},
     "output_type": "execute_result"
    }
   ],
   "source": [
    "train_normalized.head()"
   ]
  },
  {
   "cell_type": "code",
   "execution_count": 91,
   "metadata": {},
   "outputs": [],
   "source": [
    "from sklearn.model_selection import train_test_split\n",
    "X = train_model.drop('Sales', axis=1)\n",
    "y = train_model['Sales']\n",
    "X_train, X_test, y_train, y_test = train_test_split(X, y, random_state=42)\n"
   ]
  },
  {
   "cell_type": "code",
   "execution_count": 92,
   "metadata": {},
   "outputs": [],
   "source": [
    "from sklearn.preprocessing import StandardScaler\n",
    "scaler = StandardScaler()\n",
    "\n",
    "X_train_scaled = pd.DataFrame(scaler.fit_transform(X_train), columns=X.columns.values)\n",
    "\n",
    "X_test_scaled = pd.DataFrame(scaler.fit_transform(X_test), columns=X.columns.values)\n",
    "\n",
    "test_model_open_scaled = pd.DataFrame(scaler.fit_transform(test_model_open), columns=test_model_open.columns.values)"
   ]
  },
  {
   "cell_type": "code",
   "execution_count": 93,
   "metadata": {},
   "outputs": [
    {
     "data": {
      "image/png": "[encoded data removed]",
      "text/plain": [
       "<Figure size 432x288 with 1 Axes>"
      ]
     },
     "metadata": {
      "needs_background": "light"
     },
     "output_type": "display_data"
    }
   ],
   "source": [
    "# Get summary to use for scaling\n",
    "\n",
    "summary = X_train_scaled.describe()\n",
    "meanSales = summary.iloc[1, 7]\n",
    "sdSales = summary.iloc[2, 7]\n",
    "nrows = np.random.randint(0, len(X_train_scaled.index), 2000)\n",
    "\n",
    "for i in nrows:\n",
    "    # plot rows of data as if they were series data\n",
    "    dataRow = X_train_scaled.iloc[i, :-1]\n",
    "    normTarget = X_train_scaled.iloc[i, -1]\n",
    "    labelColor = 1.0 / (1.0 + math.exp(-normTarget))\n",
    "    dataRow.plot(color = plt.cm.RdYlBu(labelColor), alpha=0.5)\n",
    "\n",
    "\n",
    "plt.xlabel(\"Attribute Index\")\n",
    "plt.show()"
   ]
  },
  {
   "cell_type": "code",
   "execution_count": 94,
   "metadata": {},
   "outputs": [],
   "source": [
    "# Comparing algorithms (Best suited for the dataset)\n",
    "from sklearn.neighbors import KNeighborsRegressor\n",
    "from sklearn.linear_model import LinearRegression\n",
    "from sklearn.ensemble import RandomForestRegressor\n",
    "from sklearn.linear_model import Lasso\n",
    "from sklearn.linear_model import ElasticNet\n",
    "from sklearn.tree import DecisionTreeRegressor\n",
    "from sklearn.ensemble import GradientBoostingRegressor\n",
    "from sklearn.metrics import r2_score"
   ]
  },
  {
   "cell_type": "code",
   "execution_count": 95,
   "metadata": {},
   "outputs": [
    {
     "name": "stderr",
     "output_type": "stream",
     "text": [
      "C:\\Users\\ujjwa\\Anaconda3\\lib\\site-packages\\sklearn\\ensemble\\forest.py:245: FutureWarning: The default value of n_estimators will change from 10 in version 0.20 to 100 in 0.22.\n",
      "  \"10 in version 0.20 to 100 in 0.22.\", FutureWarning)\n"
     ]
    },
    {
     "data": {
      "text/html": [
       "<div>\n",
       "<style scoped>\n",
       "    .dataframe tbody tr th:only-of-type {\n",
       "        vertical-align: middle;\n",
       "    }\n",
       "\n",
       "    .dataframe tbody tr th {\n",
       "        vertical-align: top;\n",
       "    }\n",
       "\n",
       "    .dataframe thead th {\n",
       "        text-align: right;\n",
       "    }\n",
       "</style>\n",
       "<table border=\"1\" class=\"dataframe\">\n",
       "  <thead>\n",
       "    <tr style=\"text-align: right;\">\n",
       "      <th></th>\n",
       "      <th>Method</th>\n",
       "      <th>Score</th>\n",
       "    </tr>\n",
       "  </thead>\n",
       "  <tbody>\n",
       "    <tr>\n",
       "      <th>2</th>\n",
       "      <td>RandomForestRegressor</td>\n",
       "      <td>0.927547</td>\n",
       "    </tr>\n",
       "    <tr>\n",
       "      <th>5</th>\n",
       "      <td>DecisionTreeRegressor</td>\n",
       "      <td>0.902898</td>\n",
       "    </tr>\n",
       "    <tr>\n",
       "      <th>1</th>\n",
       "      <td>KNeighborsRegressor</td>\n",
       "      <td>0.880482</td>\n",
       "    </tr>\n",
       "    <tr>\n",
       "      <th>0</th>\n",
       "      <td>LinearRegression</td>\n",
       "      <td>0.548125</td>\n",
       "    </tr>\n",
       "    <tr>\n",
       "      <th>3</th>\n",
       "      <td>Lasso</td>\n",
       "      <td>0.548108</td>\n",
       "    </tr>\n",
       "    <tr>\n",
       "      <th>4</th>\n",
       "      <td>ElasticNet</td>\n",
       "      <td>0.360054</td>\n",
       "    </tr>\n",
       "  </tbody>\n",
       "</table>\n",
       "</div>"
      ],
      "text/plain": [
       "                  Method     Score\n",
       "2  RandomForestRegressor  0.927547\n",
       "5  DecisionTreeRegressor  0.902898\n",
       "1    KNeighborsRegressor  0.880482\n",
       "0       LinearRegression  0.548125\n",
       "3                  Lasso  0.548108\n",
       "4             ElasticNet  0.360054"
      ]
     },
     "execution_count": 95,
     "metadata": {},
     "output_type": "execute_result"
    }
   ],
   "source": [
    "def score(i):\n",
    "    lin =i()\n",
    "    lin.fit(X_train, y_train)\n",
    "    y_pred =lin.predict(X_test)\n",
    "    lin_r=r2_score(y_test, y_pred)\n",
    "    s.append(lin_r)\n",
    "algos=[LinearRegression,KNeighborsRegressor, RandomForestRegressor, Lasso, ElasticNet, DecisionTreeRegressor]\n",
    "s=[]\n",
    "for i in algos:\n",
    "    score(i)\n",
    "models =pd.DataFrame({'Method':['LinearRegression','KNeighborsRegressor', 'RandomForestRegressor', 'Lasso', 'ElasticNet', 'DecisionTreeRegressor'], 'Score':[s[0],s[1],s[2],s[3],s[4],s[5]]})\n",
    "models.sort_values(by='Score',ascending=False)"
   ]
  },
  {
   "cell_type": "code",
   "execution_count": 96,
   "metadata": {},
   "outputs": [
    {
     "data": {
      "text/plain": [
       "RandomForestRegressor(bootstrap=True, criterion='mse', max_depth=None,\n",
       "                      max_features='auto', max_leaf_nodes=None,\n",
       "                      min_impurity_decrease=0.0, min_impurity_split=None,\n",
       "                      min_samples_leaf=1, min_samples_split=2,\n",
       "                      min_weight_fraction_leaf=0.0, n_estimators=10, n_jobs=-1,\n",
       "                      oob_score=False, random_state=42, verbose=0,\n",
       "                      warm_start=False)"
      ]
     },
     "execution_count": 96,
     "metadata": {},
     "output_type": "execute_result"
    }
   ],
   "source": [
    "from sklearn.ensemble import RandomForestRegressor\n",
    "rf = RandomForestRegressor(n_estimators=10,n_jobs=-1, random_state=42)\n",
    "rf.fit(X_train, y_train)"
   ]
  },
  {
   "cell_type": "code",
   "execution_count": 97,
   "metadata": {},
   "outputs": [
    {
     "data": {
      "text/plain": [
       "0.9276052303615141"
      ]
     },
     "execution_count": 97,
     "metadata": {},
     "output_type": "execute_result"
    }
   ],
   "source": [
    "rf.score(X_test, y_test)"
   ]
  },
  {
   "cell_type": "code",
   "execution_count": 98,
   "metadata": {},
   "outputs": [],
   "source": [
    "test_model['Predict'] = rf.predict(test_model)"
   ]
  },
  {
   "cell_type": "code",
   "execution_count": 99,
   "metadata": {},
   "outputs": [
    {
     "data": {
      "text/html": [
       "<div>\n",
       "<style scoped>\n",
       "    .dataframe tbody tr th:only-of-type {\n",
       "        vertical-align: middle;\n",
       "    }\n",
       "\n",
       "    .dataframe tbody tr th {\n",
       "        vertical-align: top;\n",
       "    }\n",
       "\n",
       "    .dataframe thead th {\n",
       "        text-align: right;\n",
       "    }\n",
       "</style>\n",
       "<table border=\"1\" class=\"dataframe\">\n",
       "  <thead>\n",
       "    <tr style=\"text-align: right;\">\n",
       "      <th></th>\n",
       "      <th>Id</th>\n",
       "      <th>Predict</th>\n",
       "    </tr>\n",
       "  </thead>\n",
       "  <tbody>\n",
       "    <tr>\n",
       "      <th>0</th>\n",
       "      <td>1</td>\n",
       "      <td>4380.316667</td>\n",
       "    </tr>\n",
       "    <tr>\n",
       "      <th>1</th>\n",
       "      <td>2</td>\n",
       "      <td>8487.650000</td>\n",
       "    </tr>\n",
       "    <tr>\n",
       "      <th>2</th>\n",
       "      <td>3</td>\n",
       "      <td>10824.100000</td>\n",
       "    </tr>\n",
       "    <tr>\n",
       "      <th>3</th>\n",
       "      <td>4</td>\n",
       "      <td>8126.000000</td>\n",
       "    </tr>\n",
       "    <tr>\n",
       "      <th>4</th>\n",
       "      <td>5</td>\n",
       "      <td>7524.720000</td>\n",
       "    </tr>\n",
       "  </tbody>\n",
       "</table>\n",
       "</div>"
      ],
      "text/plain": [
       "   Id       Predict\n",
       "0   1   4380.316667\n",
       "1   2   8487.650000\n",
       "2   3  10824.100000\n",
       "3   4   8126.000000\n",
       "4   5   7524.720000"
      ]
     },
     "execution_count": 99,
     "metadata": {},
     "output_type": "execute_result"
    }
   ],
   "source": [
    "final_report = test_model['Predict']\n",
    "final_report = final_report.reset_index()\n",
    "final_report.head()"
   ]
  },
  {
   "cell_type": "code",
   "execution_count": 100,
   "metadata": {},
   "outputs": [
    {
     "data": {
      "text/html": [
       "<div>\n",
       "<style scoped>\n",
       "    .dataframe tbody tr th:only-of-type {\n",
       "        vertical-align: middle;\n",
       "    }\n",
       "\n",
       "    .dataframe tbody tr th {\n",
       "        vertical-align: top;\n",
       "    }\n",
       "\n",
       "    .dataframe thead th {\n",
       "        text-align: right;\n",
       "    }\n",
       "</style>\n",
       "<table border=\"1\" class=\"dataframe\">\n",
       "  <thead>\n",
       "    <tr style=\"text-align: right;\">\n",
       "      <th></th>\n",
       "      <th>Id</th>\n",
       "      <th>Predict</th>\n",
       "    </tr>\n",
       "  </thead>\n",
       "  <tbody>\n",
       "    <tr>\n",
       "      <th>41083</th>\n",
       "      <td>41084</td>\n",
       "      <td>2640.432619</td>\n",
       "    </tr>\n",
       "    <tr>\n",
       "      <th>41084</th>\n",
       "      <td>41085</td>\n",
       "      <td>7086.456667</td>\n",
       "    </tr>\n",
       "    <tr>\n",
       "      <th>41085</th>\n",
       "      <td>41086</td>\n",
       "      <td>5296.000000</td>\n",
       "    </tr>\n",
       "    <tr>\n",
       "      <th>41086</th>\n",
       "      <td>41087</td>\n",
       "      <td>21371.650000</td>\n",
       "    </tr>\n",
       "    <tr>\n",
       "      <th>41087</th>\n",
       "      <td>41088</td>\n",
       "      <td>7137.258333</td>\n",
       "    </tr>\n",
       "  </tbody>\n",
       "</table>\n",
       "</div>"
      ],
      "text/plain": [
       "          Id       Predict\n",
       "41083  41084   2640.432619\n",
       "41084  41085   7086.456667\n",
       "41085  41086   5296.000000\n",
       "41086  41087  21371.650000\n",
       "41087  41088   7137.258333"
      ]
     },
     "execution_count": 100,
     "metadata": {},
     "output_type": "execute_result"
    }
   ],
   "source": [
    "final_report.tail()"
   ]
  },
  {
   "cell_type": "code",
   "execution_count": 101,
   "metadata": {},
   "outputs": [],
   "source": [
    "final_report.to_csv(\"result/final_report.csv\", sep=',', index=False)"
   ]
  },
  {
   "cell_type": "code",
   "execution_count": 102,
   "metadata": {},
   "outputs": [],
   "source": [
    "train_model.to_csv(\"result/train_model.csv\", sep=',', index=False)"
   ]
  },
  {
   "cell_type": "code",
   "execution_count": 103,
   "metadata": {},
   "outputs": [],
   "source": [
    "test_model.reset_index().to_csv(\"result/test_model.csv\", sep=',', index=False)"
   ]
  }
 ],
 "metadata": {
  "kernelspec": {
   "display_name": "Python 3",
   "language": "python",
   "name": "python3"
  },
  "language_info": {
   "codemirror_mode": {
    "name": "ipython",
    "version": 3
   },
   "file_extension": ".py",
   "mimetype": "text/x-python",
   "name": "python",
   "nbconvert_exporter": "python",
   "pygments_lexer": "ipython3",
   "version": "3.7.3"
  }
 },
 "nbformat": 4,
 "nbformat_minor": 2
}
